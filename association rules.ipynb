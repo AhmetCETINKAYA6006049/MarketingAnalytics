{
 "cells": [
  {
   "cell_type": "markdown",
   "metadata": {},
   "source": [
    "Association Rules using R"
   ]
  },
  {
   "cell_type": "markdown",
   "metadata": {},
   "source": [
    "In this project we will develop association rules using R programming language"
   ]
  },
  {
   "cell_type": "markdown",
   "metadata": {},
   "source": [
    "Firstly we will install required packages and import rewuired libraries"
   ]
  },
  {
   "cell_type": "code",
   "execution_count": 1,
   "metadata": {},
   "outputs": [
    {
     "name": "stdout",
     "output_type": "stream",
     "text": [
      "\n",
      "  There is a binary version available but the source version is later:\n",
      "       binary source needs_compilation\n",
      "arules  1.6-7  1.6-8              TRUE\n",
      "\n",
      "  Binaries will be installed\n",
      "package 'arules' successfully unpacked and MD5 sums checked\n",
      "\n",
      "The downloaded binary packages are in\n",
      "\tC:\\Users\\DevPro\\AppData\\Local\\Temp\\RtmpQvWsDh\\downloaded_packages\n",
      "\n",
      "  There is a binary version available but the source version is later:\n",
      "          binary source needs_compilation\n",
      "arulesViz  1.4-0  1.5-0             FALSE\n",
      "\n"
     ]
    },
    {
     "name": "stderr",
     "output_type": "stream",
     "text": [
      "installing the source package 'arulesViz'\n",
      "\n"
     ]
    },
    {
     "name": "stdout",
     "output_type": "stream",
     "text": [
      "package 'psych' successfully unpacked and MD5 sums checked\n",
      "\n",
      "The downloaded binary packages are in\n",
      "\tC:\\Users\\DevPro\\AppData\\Local\\Temp\\RtmpQvWsDh\\downloaded_packages\n",
      "package 'xlsx' successfully unpacked and MD5 sums checked\n",
      "\n",
      "The downloaded binary packages are in\n",
      "\tC:\\Users\\DevPro\\AppData\\Local\\Temp\\RtmpQvWsDh\\downloaded_packages\n",
      "package 'openxlsx' successfully unpacked and MD5 sums checked\n",
      "\n",
      "The downloaded binary packages are in\n",
      "\tC:\\Users\\DevPro\\AppData\\Local\\Temp\\RtmpQvWsDh\\downloaded_packages\n",
      "package 'dplyr' successfully unpacked and MD5 sums checked\n",
      "\n",
      "The downloaded binary packages are in\n",
      "\tC:\\Users\\DevPro\\AppData\\Local\\Temp\\RtmpQvWsDh\\downloaded_packages\n",
      "package 'lubridate' successfully unpacked and MD5 sums checked\n",
      "\n",
      "The downloaded binary packages are in\n",
      "\tC:\\Users\\DevPro\\AppData\\Local\\Temp\\RtmpQvWsDh\\downloaded_packages\n"
     ]
    },
    {
     "name": "stderr",
     "output_type": "stream",
     "text": [
      "Warning message:\n",
      "\"package 'arules' was built under R version 3.6.3\"Loading required package: Matrix\n",
      "\n",
      "Attaching package: 'arules'\n",
      "\n",
      "The following objects are masked from 'package:base':\n",
      "\n",
      "    abbreviate, write\n",
      "\n",
      "Warning message:\n",
      "\"package 'psych' was built under R version 3.6.3\"Warning message:\n",
      "\"package 'dplyr' was built under R version 3.6.3\"\n",
      "Attaching package: 'dplyr'\n",
      "\n",
      "The following objects are masked from 'package:arules':\n",
      "\n",
      "    intersect, recode, setdiff, setequal, union\n",
      "\n",
      "The following objects are masked from 'package:stats':\n",
      "\n",
      "    filter, lag\n",
      "\n",
      "The following objects are masked from 'package:base':\n",
      "\n",
      "    intersect, setdiff, setequal, union\n",
      "\n",
      "Warning message:\n",
      "\"package 'openxlsx' was built under R version 3.6.3\"Warning message:\n",
      "\"package 'lubridate' was built under R version 3.6.3\"\n",
      "Attaching package: 'lubridate'\n",
      "\n",
      "The following objects are masked from 'package:arules':\n",
      "\n",
      "    intersect, setdiff, union\n",
      "\n",
      "The following objects are masked from 'package:base':\n",
      "\n",
      "    date, intersect, setdiff, union\n",
      "\n"
     ]
    }
   ],
   "source": [
    "install.packages(\"arules\")\n",
    "install.packages(\"arulesViz\")\n",
    "install.packages(\"psych\")\n",
    "install.packages(\"xlsx\")\n",
    "install.packages(\"openxlsx\")\n",
    "install.packages(\"dplyr\")\n",
    "install.packages(\"lubridate\")\n",
    "\n",
    "library(arules)\n",
    "library(arulesViz)\n",
    "library(psych)\n",
    "library(dplyr)\n",
    "library(openxlsx)\n",
    "library(lubridate)\n"
   ]
  },
  {
   "cell_type": "markdown",
   "metadata": {},
   "source": [
    "arules for performing association rules\n",
    "arulesVİz package to visualise the rules \n",
    "xlsx for importing the xlsx file\n",
    "lubridate for Date operations\n",
    "dplyr for filtering and querying"
   ]
  },
  {
   "cell_type": "markdown",
   "metadata": {},
   "source": [
    "Let's read the dataset saved in xlsx format in the workspace"
   ]
  },
  {
   "cell_type": "code",
   "execution_count": 2,
   "metadata": {},
   "outputs": [
    {
     "data": {
      "text/html": [
       "<table>\n",
       "<thead><tr><th scope=col>Invoice</th><th scope=col>StockCode</th><th scope=col>Description</th><th scope=col>Quantity</th><th scope=col>InvoiceDate</th><th scope=col>Price</th><th scope=col>Customer.ID</th><th scope=col>Country</th></tr></thead>\n",
       "<tbody>\n",
       "\t<tr><td>489434                             </td><td>85048                              </td><td>15CM CHRISTMAS GLASS BALL 20 LIGHTS</td><td>12                                 </td><td>40148.32                           </td><td>6.95                               </td><td>13085                              </td><td>United Kingdom                     </td></tr>\n",
       "\t<tr><td>489434                             </td><td>79323P                             </td><td>PINK CHERRY LIGHTS                 </td><td>12                                 </td><td>40148.32                           </td><td>6.75                               </td><td>13085                              </td><td>United Kingdom                     </td></tr>\n",
       "\t<tr><td>489434                             </td><td>79323W                             </td><td> WHITE CHERRY LIGHTS               </td><td>12                                 </td><td>40148.32                           </td><td>6.75                               </td><td>13085                              </td><td>United Kingdom                     </td></tr>\n",
       "\t<tr><td>489434                             </td><td>22041                              </td><td>RECORD FRAME 7\" SINGLE SIZE        </td><td>48                                 </td><td>40148.32                           </td><td>2.10                               </td><td>13085                              </td><td>United Kingdom                     </td></tr>\n",
       "\t<tr><td>489434                             </td><td>21232                              </td><td>STRAWBERRY CERAMIC TRINKET BOX     </td><td>24                                 </td><td>40148.32                           </td><td>1.25                               </td><td>13085                              </td><td>United Kingdom                     </td></tr>\n",
       "\t<tr><td>489434                             </td><td>22064                              </td><td>PINK DOUGHNUT TRINKET POT          </td><td>24                                 </td><td>40148.32                           </td><td>1.65                               </td><td>13085                              </td><td>United Kingdom                     </td></tr>\n",
       "</tbody>\n",
       "</table>\n"
      ],
      "text/latex": [
       "\\begin{tabular}{r|llllllll}\n",
       " Invoice & StockCode & Description & Quantity & InvoiceDate & Price & Customer.ID & Country\\\\\n",
       "\\hline\n",
       "\t 489434                              & 85048                               & 15CM CHRISTMAS GLASS BALL 20 LIGHTS & 12                                  & 40148.32                            & 6.95                                & 13085                               & United Kingdom                     \\\\\n",
       "\t 489434                              & 79323P                              & PINK CHERRY LIGHTS                  & 12                                  & 40148.32                            & 6.75                                & 13085                               & United Kingdom                     \\\\\n",
       "\t 489434                              & 79323W                              &  WHITE CHERRY LIGHTS                & 12                                  & 40148.32                            & 6.75                                & 13085                               & United Kingdom                     \\\\\n",
       "\t 489434                              & 22041                               & RECORD FRAME 7\" SINGLE SIZE         & 48                                  & 40148.32                            & 2.10                                & 13085                               & United Kingdom                     \\\\\n",
       "\t 489434                              & 21232                               & STRAWBERRY CERAMIC TRINKET BOX      & 24                                  & 40148.32                            & 1.25                                & 13085                               & United Kingdom                     \\\\\n",
       "\t 489434                              & 22064                               & PINK DOUGHNUT TRINKET POT           & 24                                  & 40148.32                            & 1.65                                & 13085                               & United Kingdom                     \\\\\n",
       "\\end{tabular}\n"
      ],
      "text/markdown": [
       "\n",
       "| Invoice | StockCode | Description | Quantity | InvoiceDate | Price | Customer.ID | Country |\n",
       "|---|---|---|---|---|---|---|---|\n",
       "| 489434                              | 85048                               | 15CM CHRISTMAS GLASS BALL 20 LIGHTS | 12                                  | 40148.32                            | 6.95                                | 13085                               | United Kingdom                      |\n",
       "| 489434                              | 79323P                              | PINK CHERRY LIGHTS                  | 12                                  | 40148.32                            | 6.75                                | 13085                               | United Kingdom                      |\n",
       "| 489434                              | 79323W                              |  WHITE CHERRY LIGHTS                | 12                                  | 40148.32                            | 6.75                                | 13085                               | United Kingdom                      |\n",
       "| 489434                              | 22041                               | RECORD FRAME 7\" SINGLE SIZE         | 48                                  | 40148.32                            | 2.10                                | 13085                               | United Kingdom                      |\n",
       "| 489434                              | 21232                               | STRAWBERRY CERAMIC TRINKET BOX      | 24                                  | 40148.32                            | 1.25                                | 13085                               | United Kingdom                      |\n",
       "| 489434                              | 22064                               | PINK DOUGHNUT TRINKET POT           | 24                                  | 40148.32                            | 1.65                                | 13085                               | United Kingdom                      |\n",
       "\n"
      ],
      "text/plain": [
       "  Invoice StockCode Description                         Quantity InvoiceDate\n",
       "1 489434  85048     15CM CHRISTMAS GLASS BALL 20 LIGHTS 12       40148.32   \n",
       "2 489434  79323P    PINK CHERRY LIGHTS                  12       40148.32   \n",
       "3 489434  79323W     WHITE CHERRY LIGHTS                12       40148.32   \n",
       "4 489434  22041     RECORD FRAME 7\" SINGLE SIZE         48       40148.32   \n",
       "5 489434  21232     STRAWBERRY CERAMIC TRINKET BOX      24       40148.32   \n",
       "6 489434  22064     PINK DOUGHNUT TRINKET POT           24       40148.32   \n",
       "  Price Customer.ID Country       \n",
       "1 6.95  13085       United Kingdom\n",
       "2 6.75  13085       United Kingdom\n",
       "3 6.75  13085       United Kingdom\n",
       "4 2.10  13085       United Kingdom\n",
       "5 1.25  13085       United Kingdom\n",
       "6 1.65  13085       United Kingdom"
      ]
     },
     "metadata": {},
     "output_type": "display_data"
    },
    {
     "name": "stdout",
     "output_type": "stream",
     "text": [
      "'data.frame':\t525461 obs. of  8 variables:\n",
      " $ Invoice    : chr  \"489434\" \"489434\" \"489434\" \"489434\" ...\n",
      " $ StockCode  : chr  \"85048\" \"79323P\" \"79323W\" \"22041\" ...\n",
      " $ Description: chr  \"15CM CHRISTMAS GLASS BALL 20 LIGHTS\" \"PINK CHERRY LIGHTS\" \" WHITE CHERRY LIGHTS\" \"RECORD FRAME 7\\\" SINGLE SIZE \" ...\n",
      " $ Quantity   : num  12 12 12 48 24 24 24 10 12 12 ...\n",
      " $ InvoiceDate: num  40148 40148 40148 40148 40148 ...\n",
      " $ Price      : num  6.95 6.75 6.75 2.1 1.25 1.65 1.25 5.95 2.55 3.75 ...\n",
      " $ Customer.ID: num  13085 13085 13085 13085 13085 ...\n",
      " $ Country    : chr  \"United Kingdom\" \"United Kingdom\" \"United Kingdom\" \"United Kingdom\" ...\n"
     ]
    }
   ],
   "source": [
    "dataset <- read.xlsx(\"online_retail_II.xlsx\",\"Year 2009-2010\")\n",
    "head(dataset)\n",
    "str(dataset)"
   ]
  },
  {
   "cell_type": "markdown",
   "metadata": {},
   "source": [
    "As you see the InvoiceDate column is not in Date format, lets create a new column named InvoiceDate.new and convert InvoiceDate to DateTime"
   ]
  },
  {
   "cell_type": "code",
   "execution_count": 3,
   "metadata": {},
   "outputs": [
    {
     "data": {
      "text/html": [
       "<table>\n",
       "<thead><tr><th scope=col>Invoice</th><th scope=col>StockCode</th><th scope=col>Description</th><th scope=col>Quantity</th><th scope=col>InvoiceDate</th><th scope=col>Price</th><th scope=col>Customer.ID</th><th scope=col>Country</th><th scope=col>InvoiceDate.new</th></tr></thead>\n",
       "<tbody>\n",
       "\t<tr><td>489434                             </td><td>85048                              </td><td>15CM CHRISTMAS GLASS BALL 20 LIGHTS</td><td>12                                 </td><td>40148.32                           </td><td>6.95                               </td><td>13085                              </td><td>United Kingdom                     </td><td>2009-12-01 07:45:00                </td></tr>\n",
       "\t<tr><td>489434                             </td><td>79323P                             </td><td>PINK CHERRY LIGHTS                 </td><td>12                                 </td><td>40148.32                           </td><td>6.75                               </td><td>13085                              </td><td>United Kingdom                     </td><td>2009-12-01 07:45:00                </td></tr>\n",
       "\t<tr><td>489434                             </td><td>79323W                             </td><td> WHITE CHERRY LIGHTS               </td><td>12                                 </td><td>40148.32                           </td><td>6.75                               </td><td>13085                              </td><td>United Kingdom                     </td><td>2009-12-01 07:45:00                </td></tr>\n",
       "\t<tr><td>489434                             </td><td>22041                              </td><td>RECORD FRAME 7\" SINGLE SIZE        </td><td>48                                 </td><td>40148.32                           </td><td>2.10                               </td><td>13085                              </td><td>United Kingdom                     </td><td>2009-12-01 07:45:00                </td></tr>\n",
       "\t<tr><td>489434                             </td><td>21232                              </td><td>STRAWBERRY CERAMIC TRINKET BOX     </td><td>24                                 </td><td>40148.32                           </td><td>1.25                               </td><td>13085                              </td><td>United Kingdom                     </td><td>2009-12-01 07:45:00                </td></tr>\n",
       "\t<tr><td>489434                             </td><td>22064                              </td><td>PINK DOUGHNUT TRINKET POT          </td><td>24                                 </td><td>40148.32                           </td><td>1.65                               </td><td>13085                              </td><td>United Kingdom                     </td><td>2009-12-01 07:45:00                </td></tr>\n",
       "</tbody>\n",
       "</table>\n"
      ],
      "text/latex": [
       "\\begin{tabular}{r|lllllllll}\n",
       " Invoice & StockCode & Description & Quantity & InvoiceDate & Price & Customer.ID & Country & InvoiceDate.new\\\\\n",
       "\\hline\n",
       "\t 489434                              & 85048                               & 15CM CHRISTMAS GLASS BALL 20 LIGHTS & 12                                  & 40148.32                            & 6.95                                & 13085                               & United Kingdom                      & 2009-12-01 07:45:00                \\\\\n",
       "\t 489434                              & 79323P                              & PINK CHERRY LIGHTS                  & 12                                  & 40148.32                            & 6.75                                & 13085                               & United Kingdom                      & 2009-12-01 07:45:00                \\\\\n",
       "\t 489434                              & 79323W                              &  WHITE CHERRY LIGHTS                & 12                                  & 40148.32                            & 6.75                                & 13085                               & United Kingdom                      & 2009-12-01 07:45:00                \\\\\n",
       "\t 489434                              & 22041                               & RECORD FRAME 7\" SINGLE SIZE         & 48                                  & 40148.32                            & 2.10                                & 13085                               & United Kingdom                      & 2009-12-01 07:45:00                \\\\\n",
       "\t 489434                              & 21232                               & STRAWBERRY CERAMIC TRINKET BOX      & 24                                  & 40148.32                            & 1.25                                & 13085                               & United Kingdom                      & 2009-12-01 07:45:00                \\\\\n",
       "\t 489434                              & 22064                               & PINK DOUGHNUT TRINKET POT           & 24                                  & 40148.32                            & 1.65                                & 13085                               & United Kingdom                      & 2009-12-01 07:45:00                \\\\\n",
       "\\end{tabular}\n"
      ],
      "text/markdown": [
       "\n",
       "| Invoice | StockCode | Description | Quantity | InvoiceDate | Price | Customer.ID | Country | InvoiceDate.new |\n",
       "|---|---|---|---|---|---|---|---|---|\n",
       "| 489434                              | 85048                               | 15CM CHRISTMAS GLASS BALL 20 LIGHTS | 12                                  | 40148.32                            | 6.95                                | 13085                               | United Kingdom                      | 2009-12-01 07:45:00                 |\n",
       "| 489434                              | 79323P                              | PINK CHERRY LIGHTS                  | 12                                  | 40148.32                            | 6.75                                | 13085                               | United Kingdom                      | 2009-12-01 07:45:00                 |\n",
       "| 489434                              | 79323W                              |  WHITE CHERRY LIGHTS                | 12                                  | 40148.32                            | 6.75                                | 13085                               | United Kingdom                      | 2009-12-01 07:45:00                 |\n",
       "| 489434                              | 22041                               | RECORD FRAME 7\" SINGLE SIZE         | 48                                  | 40148.32                            | 2.10                                | 13085                               | United Kingdom                      | 2009-12-01 07:45:00                 |\n",
       "| 489434                              | 21232                               | STRAWBERRY CERAMIC TRINKET BOX      | 24                                  | 40148.32                            | 1.25                                | 13085                               | United Kingdom                      | 2009-12-01 07:45:00                 |\n",
       "| 489434                              | 22064                               | PINK DOUGHNUT TRINKET POT           | 24                                  | 40148.32                            | 1.65                                | 13085                               | United Kingdom                      | 2009-12-01 07:45:00                 |\n",
       "\n"
      ],
      "text/plain": [
       "  Invoice StockCode Description                         Quantity InvoiceDate\n",
       "1 489434  85048     15CM CHRISTMAS GLASS BALL 20 LIGHTS 12       40148.32   \n",
       "2 489434  79323P    PINK CHERRY LIGHTS                  12       40148.32   \n",
       "3 489434  79323W     WHITE CHERRY LIGHTS                12       40148.32   \n",
       "4 489434  22041     RECORD FRAME 7\" SINGLE SIZE         48       40148.32   \n",
       "5 489434  21232     STRAWBERRY CERAMIC TRINKET BOX      24       40148.32   \n",
       "6 489434  22064     PINK DOUGHNUT TRINKET POT           24       40148.32   \n",
       "  Price Customer.ID Country        InvoiceDate.new    \n",
       "1 6.95  13085       United Kingdom 2009-12-01 07:45:00\n",
       "2 6.75  13085       United Kingdom 2009-12-01 07:45:00\n",
       "3 6.75  13085       United Kingdom 2009-12-01 07:45:00\n",
       "4 2.10  13085       United Kingdom 2009-12-01 07:45:00\n",
       "5 1.25  13085       United Kingdom 2009-12-01 07:45:00\n",
       "6 1.65  13085       United Kingdom 2009-12-01 07:45:00"
      ]
     },
     "metadata": {},
     "output_type": "display_data"
    },
    {
     "name": "stdout",
     "output_type": "stream",
     "text": [
      "'data.frame':\t525461 obs. of  9 variables:\n",
      " $ Invoice        : chr  \"489434\" \"489434\" \"489434\" \"489434\" ...\n",
      " $ StockCode      : chr  \"85048\" \"79323P\" \"79323W\" \"22041\" ...\n",
      " $ Description    : chr  \"15CM CHRISTMAS GLASS BALL 20 LIGHTS\" \"PINK CHERRY LIGHTS\" \" WHITE CHERRY LIGHTS\" \"RECORD FRAME 7\\\" SINGLE SIZE \" ...\n",
      " $ Quantity       : num  12 12 12 48 24 24 24 10 12 12 ...\n",
      " $ InvoiceDate    : num  40148 40148 40148 40148 40148 ...\n",
      " $ Price          : num  6.95 6.75 6.75 2.1 1.25 1.65 1.25 5.95 2.55 3.75 ...\n",
      " $ Customer.ID    : num  13085 13085 13085 13085 13085 ...\n",
      " $ Country        : chr  \"United Kingdom\" \"United Kingdom\" \"United Kingdom\" \"United Kingdom\" ...\n",
      " $ InvoiceDate.new: POSIXct, format: \"2009-12-01 07:45:00\" \"2009-12-01 07:45:00\" ...\n"
     ]
    }
   ],
   "source": [
    "dataset$InvoiceDate.new <- format(as.POSIXct((dataset$InvoiceDate) * 86400, origin = \"1999-12-30\", tz = \"GMT\"), \"%d-%m-%y %H:%M\")\n",
    "dataset$InvoiceDate.new <- dmy_hm(dataset$InvoiceDate.new)\n",
    "head(dataset)\n",
    "str(dataset)"
   ]
  },
  {
   "cell_type": "markdown",
   "metadata": {},
   "source": [
    "Let's have a look at the statistics of the dataset"
   ]
  },
  {
   "cell_type": "code",
   "execution_count": 4,
   "metadata": {},
   "outputs": [
    {
     "data": {
      "text/plain": [
       "   Invoice           StockCode         Description           Quantity       \n",
       " Length:525461      Length:525461      Length:525461      Min.   :-9600.00  \n",
       " Class :character   Class :character   Class :character   1st Qu.:    1.00  \n",
       " Mode  :character   Mode  :character   Mode  :character   Median :    3.00  \n",
       "                                                          Mean   :   10.34  \n",
       "                                                          3rd Qu.:   10.00  \n",
       "                                                          Max.   :19152.00  \n",
       "                                                                            \n",
       "  InvoiceDate        Price            Customer.ID       Country         \n",
       " Min.   :40148   Min.   :-53594.36   Min.   :12346    Length:525461     \n",
       " 1st Qu.:40259   1st Qu.:     1.25   1st Qu.:13983    Class :character  \n",
       " Median :40365   Median :     2.10   Median :15311    Mode  :character  \n",
       " Mean   :40357   Mean   :     4.69   Mean   :15361                      \n",
       " 3rd Qu.:40467   3rd Qu.:     4.21   3rd Qu.:16799                      \n",
       " Max.   :40522   Max.   : 25111.09   Max.   :18287                      \n",
       "                                     NA's   :107927                     \n",
       " InvoiceDate.new              \n",
       " Min.   :2009-12-01 07:45:00  \n",
       " 1st Qu.:2010-03-21 12:20:00  \n",
       " Median :2010-07-06 09:51:00  \n",
       " Mean   :2010-06-28 11:37:36  \n",
       " 3rd Qu.:2010-10-15 12:45:00  \n",
       " Max.   :2010-12-09 20:01:00  \n",
       "                              "
      ]
     },
     "metadata": {},
     "output_type": "display_data"
    }
   ],
   "source": [
    "summary(dataset)"
   ]
  },
  {
   "cell_type": "markdown",
   "metadata": {},
   "source": [
    "We can get more statistics using describe() function int psych library. Here the vars with an asterisks(*) are factors."
   ]
  },
  {
   "cell_type": "code",
   "execution_count": 5,
   "metadata": {},
   "outputs": [
    {
     "name": "stderr",
     "output_type": "stream",
     "text": [
      "Warning message in FUN(newX[, i], ...):\n",
      "\"min için eksik olmayan argüman yok; Inf döndürülüyor\"Warning message in FUN(newX[, i], ...):\n",
      "\"max için eksik olmayan argüman yok; -Inf döndürülüyor\""
     ]
    },
    {
     "data": {
      "text/html": [
       "<table>\n",
       "<thead><tr><th></th><th scope=col>vars</th><th scope=col>n</th><th scope=col>mean</th><th scope=col>sd</th><th scope=col>median</th><th scope=col>trimmed</th><th scope=col>mad</th><th scope=col>min</th><th scope=col>max</th><th scope=col>range</th><th scope=col>skew</th><th scope=col>kurtosis</th><th scope=col>se</th></tr></thead>\n",
       "<tbody>\n",
       "\t<tr><th scope=row>Invoice*</th><td>1            </td><td>525461       </td><td>12756.272022 </td><td>7392.888319  </td><td>12973.00     </td><td>12813.514603 </td><td>9528.67020   </td><td>     1.00    </td><td>28816.00     </td><td>28815.0000   </td><td>  -0.05151479</td><td>   -1.1901990</td><td>10.198678504 </td></tr>\n",
       "\t<tr><th scope=row>StockCode*</th><td>2            </td><td>525461       </td><td> 1855.279549 </td><td>1108.771525  </td><td> 1666.00     </td><td> 1776.043036 </td><td>1005.20280   </td><td>     1.00    </td><td> 4632.00     </td><td> 4631.0000   </td><td>   0.61998284</td><td>   -0.4701086</td><td> 1.529578674 </td></tr>\n",
       "\t<tr><th scope=row>Description*</th><td>3            </td><td>522533       </td><td> 2474.231208 </td><td>1324.417463  </td><td> 2450.00     </td><td> 2500.876821 </td><td>1645.68600   </td><td>     1.00    </td><td> 4681.00     </td><td> 4680.0000   </td><td>  -0.12456777</td><td>   -1.1112463</td><td> 1.832179574 </td></tr>\n",
       "\t<tr><th scope=row>Quantity</th><td>4            </td><td>525461       </td><td>   10.337667 </td><td> 107.424110  </td><td>    3.00     </td><td>    5.129291 </td><td>   2.96520   </td><td> -9600.00    </td><td>19152.00     </td><td>28752.0000   </td><td>  36.04441107</td><td> 6277.5832566</td><td> 0.148194307 </td></tr>\n",
       "\t<tr><th scope=row>InvoiceDate</th><td>5            </td><td>525461       </td><td>40357.484454 </td><td> 116.077606  </td><td>40365.41     </td><td>40362.631939 </td><td> 154.17187   </td><td> 40148.32    </td><td>40521.83     </td><td>  373.5111   </td><td>  -0.24898391</td><td>   -1.2507674</td><td> 0.160132026 </td></tr>\n",
       "\t<tr><th scope=row>Price</th><td>6            </td><td>525461       </td><td>    4.688834 </td><td> 146.126914  </td><td>    2.10     </td><td>    2.714061 </td><td>   1.85325   </td><td>-53594.36    </td><td>25111.09     </td><td>78705.4500   </td><td>-140.76764184</td><td>64867.4807016</td><td> 0.201585815 </td></tr>\n",
       "\t<tr><th scope=row>Customer.ID</th><td>7            </td><td>417534       </td><td>15360.645478 </td><td>1680.811316  </td><td>15311.00     </td><td>15367.900865 </td><td>2137.90920   </td><td> 12346.00    </td><td>18287.00     </td><td> 5941.0000   </td><td>  -0.01652417</td><td>   -1.1886342</td><td> 2.601195776 </td></tr>\n",
       "\t<tr><th scope=row>Country*</th><td>8            </td><td>525461       </td><td>   35.427992 </td><td>   5.988976  </td><td>   37.00     </td><td>   37.000000 </td><td>   0.00000   </td><td>     1.00    </td><td>   40.00     </td><td>   39.0000   </td><td>  -3.77912134</td><td>   12.9470637</td><td> 0.008261945 </td></tr>\n",
       "\t<tr><th scope=row>InvoiceDate.new</th><td>9            </td><td>525461       </td><td>         NaN </td><td>         NA  </td><td>      NA     </td><td>         NaN </td><td>        NA   </td><td>      Inf    </td><td>    -Inf     </td><td>      -Inf   </td><td>           NA</td><td>           NA</td><td>          NA </td></tr>\n",
       "</tbody>\n",
       "</table>\n"
      ],
      "text/latex": [
       "\\begin{tabular}{r|lllllllllllll}\n",
       "  & vars & n & mean & sd & median & trimmed & mad & min & max & range & skew & kurtosis & se\\\\\n",
       "\\hline\n",
       "\tInvoice* & 1             & 525461        & 12756.272022  & 7392.888319   & 12973.00      & 12813.514603  & 9528.67020    &      1.00     & 28816.00      & 28815.0000    &   -0.05151479 &    -1.1901990 & 10.198678504 \\\\\n",
       "\tStockCode* & 2             & 525461        &  1855.279549  & 1108.771525   &  1666.00      &  1776.043036  & 1005.20280    &      1.00     &  4632.00      &  4631.0000    &    0.61998284 &    -0.4701086 &  1.529578674 \\\\\n",
       "\tDescription* & 3             & 522533        &  2474.231208  & 1324.417463   &  2450.00      &  2500.876821  & 1645.68600    &      1.00     &  4681.00      &  4680.0000    &   -0.12456777 &    -1.1112463 &  1.832179574 \\\\\n",
       "\tQuantity & 4             & 525461        &    10.337667  &  107.424110   &     3.00      &     5.129291  &    2.96520    &  -9600.00     & 19152.00      & 28752.0000    &   36.04441107 &  6277.5832566 &  0.148194307 \\\\\n",
       "\tInvoiceDate & 5             & 525461        & 40357.484454  &  116.077606   & 40365.41      & 40362.631939  &  154.17187    &  40148.32     & 40521.83      &   373.5111    &   -0.24898391 &    -1.2507674 &  0.160132026 \\\\\n",
       "\tPrice & 6             & 525461        &     4.688834  &  146.126914   &     2.10      &     2.714061  &    1.85325    & -53594.36     & 25111.09      & 78705.4500    & -140.76764184 & 64867.4807016 &  0.201585815 \\\\\n",
       "\tCustomer.ID & 7             & 417534        & 15360.645478  & 1680.811316   & 15311.00      & 15367.900865  & 2137.90920    &  12346.00     & 18287.00      &  5941.0000    &   -0.01652417 &    -1.1886342 &  2.601195776 \\\\\n",
       "\tCountry* & 8             & 525461        &    35.427992  &    5.988976   &    37.00      &    37.000000  &    0.00000    &      1.00     &    40.00      &    39.0000    &   -3.77912134 &    12.9470637 &  0.008261945 \\\\\n",
       "\tInvoiceDate.new & 9             & 525461        &          NaN  &          NA   &       NA      &          NaN  &         NA    &       Inf     &     -Inf      &       -Inf    &            NA &            NA &           NA \\\\\n",
       "\\end{tabular}\n"
      ],
      "text/markdown": [
       "\n",
       "| <!--/--> | vars | n | mean | sd | median | trimmed | mad | min | max | range | skew | kurtosis | se |\n",
       "|---|---|---|---|---|---|---|---|---|---|---|---|---|---|\n",
       "| Invoice* | 1             | 525461        | 12756.272022  | 7392.888319   | 12973.00      | 12813.514603  | 9528.67020    |      1.00     | 28816.00      | 28815.0000    |   -0.05151479 |    -1.1901990 | 10.198678504  |\n",
       "| StockCode* | 2             | 525461        |  1855.279549  | 1108.771525   |  1666.00      |  1776.043036  | 1005.20280    |      1.00     |  4632.00      |  4631.0000    |    0.61998284 |    -0.4701086 |  1.529578674  |\n",
       "| Description* | 3             | 522533        |  2474.231208  | 1324.417463   |  2450.00      |  2500.876821  | 1645.68600    |      1.00     |  4681.00      |  4680.0000    |   -0.12456777 |    -1.1112463 |  1.832179574  |\n",
       "| Quantity | 4             | 525461        |    10.337667  |  107.424110   |     3.00      |     5.129291  |    2.96520    |  -9600.00     | 19152.00      | 28752.0000    |   36.04441107 |  6277.5832566 |  0.148194307  |\n",
       "| InvoiceDate | 5             | 525461        | 40357.484454  |  116.077606   | 40365.41      | 40362.631939  |  154.17187    |  40148.32     | 40521.83      |   373.5111    |   -0.24898391 |    -1.2507674 |  0.160132026  |\n",
       "| Price | 6             | 525461        |     4.688834  |  146.126914   |     2.10      |     2.714061  |    1.85325    | -53594.36     | 25111.09      | 78705.4500    | -140.76764184 | 64867.4807016 |  0.201585815  |\n",
       "| Customer.ID | 7             | 417534        | 15360.645478  | 1680.811316   | 15311.00      | 15367.900865  | 2137.90920    |  12346.00     | 18287.00      |  5941.0000    |   -0.01652417 |    -1.1886342 |  2.601195776  |\n",
       "| Country* | 8             | 525461        |    35.427992  |    5.988976   |    37.00      |    37.000000  |    0.00000    |      1.00     |    40.00      |    39.0000    |   -3.77912134 |    12.9470637 |  0.008261945  |\n",
       "| InvoiceDate.new | 9             | 525461        |          NaN  |          NA   |       NA      |          NaN  |         NA    |       Inf     |     -Inf      |       -Inf    |            NA |            NA |           NA  |\n",
       "\n"
      ],
      "text/plain": [
       "                vars n      mean         sd          median   trimmed     \n",
       "Invoice*        1    525461 12756.272022 7392.888319 12973.00 12813.514603\n",
       "StockCode*      2    525461  1855.279549 1108.771525  1666.00  1776.043036\n",
       "Description*    3    522533  2474.231208 1324.417463  2450.00  2500.876821\n",
       "Quantity        4    525461    10.337667  107.424110     3.00     5.129291\n",
       "InvoiceDate     5    525461 40357.484454  116.077606 40365.41 40362.631939\n",
       "Price           6    525461     4.688834  146.126914     2.10     2.714061\n",
       "Customer.ID     7    417534 15360.645478 1680.811316 15311.00 15367.900865\n",
       "Country*        8    525461    35.427992    5.988976    37.00    37.000000\n",
       "InvoiceDate.new 9    525461          NaN          NA       NA          NaN\n",
       "                mad        min       max      range      skew         \n",
       "Invoice*        9528.67020      1.00 28816.00 28815.0000   -0.05151479\n",
       "StockCode*      1005.20280      1.00  4632.00  4631.0000    0.61998284\n",
       "Description*    1645.68600      1.00  4681.00  4680.0000   -0.12456777\n",
       "Quantity           2.96520  -9600.00 19152.00 28752.0000   36.04441107\n",
       "InvoiceDate      154.17187  40148.32 40521.83   373.5111   -0.24898391\n",
       "Price              1.85325 -53594.36 25111.09 78705.4500 -140.76764184\n",
       "Customer.ID     2137.90920  12346.00 18287.00  5941.0000   -0.01652417\n",
       "Country*           0.00000      1.00    40.00    39.0000   -3.77912134\n",
       "InvoiceDate.new         NA       Inf     -Inf       -Inf            NA\n",
       "                kurtosis      se          \n",
       "Invoice*           -1.1901990 10.198678504\n",
       "StockCode*         -0.4701086  1.529578674\n",
       "Description*       -1.1112463  1.832179574\n",
       "Quantity         6277.5832566  0.148194307\n",
       "InvoiceDate        -1.2507674  0.160132026\n",
       "Price           64867.4807016  0.201585815\n",
       "Customer.ID        -1.1886342  2.601195776\n",
       "Country*           12.9470637  0.008261945\n",
       "InvoiceDate.new            NA           NA"
      ]
     },
     "metadata": {},
     "output_type": "display_data"
    }
   ],
   "source": [
    "describe(dataset)"
   ]
  },
  {
   "cell_type": "markdown",
   "metadata": {},
   "source": [
    "As we will develop association rules we will use \n",
    "1- use positive quantities \n",
    "2- use real sales invoice numbers between 489434 and 538171\n",
    "3- use prices that are higher than zero \n",
    "4- remove stockcodes notr realated to product bought together. (like adjustments, bank charges, manuals, posting costs, tests, etc..)\n",
    "by setting NA to the unrelated cells using mutate() function from dplyr library. Then we will remove these unrelated rows with na.omit()"
   ]
  },
  {
   "cell_type": "code",
   "execution_count": 6,
   "metadata": {},
   "outputs": [
    {
     "data": {
      "text/html": [
       "<table>\n",
       "<thead><tr><th scope=col>Invoice</th><th scope=col>StockCode</th><th scope=col>Description</th><th scope=col>Quantity</th><th scope=col>InvoiceDate</th><th scope=col>Price</th><th scope=col>Customer.ID</th><th scope=col>Country</th><th scope=col>InvoiceDate.new</th></tr></thead>\n",
       "<tbody>\n",
       "\t<tr><td>489434                             </td><td>85048                              </td><td>15CM CHRISTMAS GLASS BALL 20 LIGHTS</td><td>12                                 </td><td>40148.32                           </td><td>6.95                               </td><td>13085                              </td><td>United Kingdom                     </td><td>2009-12-01 07:45:00                </td></tr>\n",
       "\t<tr><td>489434                             </td><td>79323P                             </td><td>PINK CHERRY LIGHTS                 </td><td>12                                 </td><td>40148.32                           </td><td>6.75                               </td><td>13085                              </td><td>United Kingdom                     </td><td>2009-12-01 07:45:00                </td></tr>\n",
       "\t<tr><td>489434                             </td><td>79323W                             </td><td> WHITE CHERRY LIGHTS               </td><td>12                                 </td><td>40148.32                           </td><td>6.75                               </td><td>13085                              </td><td>United Kingdom                     </td><td>2009-12-01 07:45:00                </td></tr>\n",
       "\t<tr><td>489434                             </td><td>22041                              </td><td>RECORD FRAME 7\" SINGLE SIZE        </td><td>48                                 </td><td>40148.32                           </td><td>2.10                               </td><td>13085                              </td><td>United Kingdom                     </td><td>2009-12-01 07:45:00                </td></tr>\n",
       "\t<tr><td>489434                             </td><td>21232                              </td><td>STRAWBERRY CERAMIC TRINKET BOX     </td><td>24                                 </td><td>40148.32                           </td><td>1.25                               </td><td>13085                              </td><td>United Kingdom                     </td><td>2009-12-01 07:45:00                </td></tr>\n",
       "\t<tr><td>489434                             </td><td>22064                              </td><td>PINK DOUGHNUT TRINKET POT          </td><td>24                                 </td><td>40148.32                           </td><td>1.65                               </td><td>13085                              </td><td>United Kingdom                     </td><td>2009-12-01 07:45:00                </td></tr>\n",
       "</tbody>\n",
       "</table>\n"
      ],
      "text/latex": [
       "\\begin{tabular}{r|lllllllll}\n",
       " Invoice & StockCode & Description & Quantity & InvoiceDate & Price & Customer.ID & Country & InvoiceDate.new\\\\\n",
       "\\hline\n",
       "\t 489434                              & 85048                               & 15CM CHRISTMAS GLASS BALL 20 LIGHTS & 12                                  & 40148.32                            & 6.95                                & 13085                               & United Kingdom                      & 2009-12-01 07:45:00                \\\\\n",
       "\t 489434                              & 79323P                              & PINK CHERRY LIGHTS                  & 12                                  & 40148.32                            & 6.75                                & 13085                               & United Kingdom                      & 2009-12-01 07:45:00                \\\\\n",
       "\t 489434                              & 79323W                              &  WHITE CHERRY LIGHTS                & 12                                  & 40148.32                            & 6.75                                & 13085                               & United Kingdom                      & 2009-12-01 07:45:00                \\\\\n",
       "\t 489434                              & 22041                               & RECORD FRAME 7\" SINGLE SIZE         & 48                                  & 40148.32                            & 2.10                                & 13085                               & United Kingdom                      & 2009-12-01 07:45:00                \\\\\n",
       "\t 489434                              & 21232                               & STRAWBERRY CERAMIC TRINKET BOX      & 24                                  & 40148.32                            & 1.25                                & 13085                               & United Kingdom                      & 2009-12-01 07:45:00                \\\\\n",
       "\t 489434                              & 22064                               & PINK DOUGHNUT TRINKET POT           & 24                                  & 40148.32                            & 1.65                                & 13085                               & United Kingdom                      & 2009-12-01 07:45:00                \\\\\n",
       "\\end{tabular}\n"
      ],
      "text/markdown": [
       "\n",
       "| Invoice | StockCode | Description | Quantity | InvoiceDate | Price | Customer.ID | Country | InvoiceDate.new |\n",
       "|---|---|---|---|---|---|---|---|---|\n",
       "| 489434                              | 85048                               | 15CM CHRISTMAS GLASS BALL 20 LIGHTS | 12                                  | 40148.32                            | 6.95                                | 13085                               | United Kingdom                      | 2009-12-01 07:45:00                 |\n",
       "| 489434                              | 79323P                              | PINK CHERRY LIGHTS                  | 12                                  | 40148.32                            | 6.75                                | 13085                               | United Kingdom                      | 2009-12-01 07:45:00                 |\n",
       "| 489434                              | 79323W                              |  WHITE CHERRY LIGHTS                | 12                                  | 40148.32                            | 6.75                                | 13085                               | United Kingdom                      | 2009-12-01 07:45:00                 |\n",
       "| 489434                              | 22041                               | RECORD FRAME 7\" SINGLE SIZE         | 48                                  | 40148.32                            | 2.10                                | 13085                               | United Kingdom                      | 2009-12-01 07:45:00                 |\n",
       "| 489434                              | 21232                               | STRAWBERRY CERAMIC TRINKET BOX      | 24                                  | 40148.32                            | 1.25                                | 13085                               | United Kingdom                      | 2009-12-01 07:45:00                 |\n",
       "| 489434                              | 22064                               | PINK DOUGHNUT TRINKET POT           | 24                                  | 40148.32                            | 1.65                                | 13085                               | United Kingdom                      | 2009-12-01 07:45:00                 |\n",
       "\n"
      ],
      "text/plain": [
       "  Invoice StockCode Description                         Quantity InvoiceDate\n",
       "1 489434  85048     15CM CHRISTMAS GLASS BALL 20 LIGHTS 12       40148.32   \n",
       "2 489434  79323P    PINK CHERRY LIGHTS                  12       40148.32   \n",
       "3 489434  79323W     WHITE CHERRY LIGHTS                12       40148.32   \n",
       "4 489434  22041     RECORD FRAME 7\" SINGLE SIZE         48       40148.32   \n",
       "5 489434  21232     STRAWBERRY CERAMIC TRINKET BOX      24       40148.32   \n",
       "6 489434  22064     PINK DOUGHNUT TRINKET POT           24       40148.32   \n",
       "  Price Customer.ID Country        InvoiceDate.new    \n",
       "1 6.95  13085       United Kingdom 2009-12-01 07:45:00\n",
       "2 6.75  13085       United Kingdom 2009-12-01 07:45:00\n",
       "3 6.75  13085       United Kingdom 2009-12-01 07:45:00\n",
       "4 2.10  13085       United Kingdom 2009-12-01 07:45:00\n",
       "5 1.25  13085       United Kingdom 2009-12-01 07:45:00\n",
       "6 1.65  13085       United Kingdom 2009-12-01 07:45:00"
      ]
     },
     "metadata": {},
     "output_type": "display_data"
    },
    {
     "data": {
      "text/plain": [
       "   Invoice           StockCode         Description           Quantity       \n",
       " Length:406311      Length:406311      Length:406311      Min.   :    1.00  \n",
       " Class :character   Class :character   Class :character   1st Qu.:    2.00  \n",
       " Mode  :character   Mode  :character   Mode  :character   Median :    5.00  \n",
       "                                                          Mean   :   13.62  \n",
       "                                                          3rd Qu.:   12.00  \n",
       "                                                          Max.   :19152.00  \n",
       "  InvoiceDate        Price          Customer.ID      Country         \n",
       " Min.   :40148   Min.   :  0.001   Min.   :12346   Length:406311     \n",
       " 1st Qu.:40264   1st Qu.:  1.250   1st Qu.:14006   Class :character  \n",
       " Median :40369   Median :  1.950   Median :15326   Mode  :character  \n",
       " Mean   :40360   Mean   :  2.992   Mean   :15374                     \n",
       " 3rd Qu.:40466   3rd Qu.:  3.750   3rd Qu.:16814                     \n",
       " Max.   :40522   Max.   :295.000   Max.   :18287                     \n",
       " InvoiceDate.new              \n",
       " Min.   :2009-12-01 07:45:00  \n",
       " 1st Qu.:2010-03-26 14:01:00  \n",
       " Median :2010-07-09 15:48:00  \n",
       " Mean   :2010-07-01 10:15:07  \n",
       " 3rd Qu.:2010-10-14 17:09:00  \n",
       " Max.   :2010-12-09 20:01:00  "
      ]
     },
     "metadata": {},
     "output_type": "display_data"
    }
   ],
   "source": [
    "dataset <- dataset %>% \n",
    "  mutate(Quantity = replace(Quantity, Quantity<=0, NA),\n",
    "         Price = replace(Price, Price<=0, NA),\n",
    "         Invoice = replace(Invoice, Invoice < \"489434\" | Invoice > \"538171\", NA),\n",
    "         StockCode = replace(StockCode, \n",
    "                             StockCode == \"ADJUST\" |\n",
    "                             StockCode == \"ADJUST2\"|\n",
    "                             StockCode == \"BANK CHARGES\"|\n",
    "                             StockCode == \"C2\"|\n",
    "                             StockCode == \"D\"|\n",
    "                             StockCode == \"M\"|\n",
    "                             StockCode == \"POST\"|\n",
    "                             StockCode == \"TEST001\" |\n",
    "                             StockCode == \"TEST002\",NA))\n",
    "\n",
    "dataset <- na.omit(dataset)\n",
    "head(dataset)\n",
    "\n",
    "summary(dataset)"
   ]
  },
  {
   "cell_type": "markdown",
   "metadata": {},
   "source": [
    "As you see the number of  rows has been decreased to 406311 which were 525461"
   ]
  },
  {
   "cell_type": "markdown",
   "metadata": {},
   "source": [
    "Let's findout how many  invoices we have "
   ]
  },
  {
   "cell_type": "code",
   "execution_count": 7,
   "metadata": {},
   "outputs": [
    {
     "data": {
      "text/html": [
       "18966"
      ],
      "text/latex": [
       "18966"
      ],
      "text/markdown": [
       "18966"
      ],
      "text/plain": [
       "[1] 18966"
      ]
     },
     "metadata": {},
     "output_type": "display_data"
    }
   ],
   "source": [
    "invoice_count <- length(unique(dataset$Invoice))\n",
    "invoice_count"
   ]
  },
  {
   "cell_type": "markdown",
   "metadata": {},
   "source": [
    "and the number of unique product count"
   ]
  },
  {
   "cell_type": "code",
   "execution_count": 8,
   "metadata": {},
   "outputs": [
    {
     "data": {
      "text/html": [
       "4434"
      ],
      "text/latex": [
       "4434"
      ],
      "text/markdown": [
       "4434"
      ],
      "text/plain": [
       "[1] 4434"
      ]
     },
     "metadata": {},
     "output_type": "display_data"
    }
   ],
   "source": [
    "unique_product_count <- length(unique(dataset$Description))\n",
    "unique_product_count"
   ]
  },
  {
   "cell_type": "markdown",
   "metadata": {},
   "source": [
    "We will use Invoice and Description columns for Apriori analysis.\n",
    "In apriori() one invoice must be presented in a row with the products in it."
   ]
  },
  {
   "cell_type": "code",
   "execution_count": 9,
   "metadata": {},
   "outputs": [
    {
     "data": {
      "text/html": [
       "<table>\n",
       "<thead><tr><th scope=col>Invoice</th><th scope=col>Description</th></tr></thead>\n",
       "<tbody>\n",
       "\t<tr><td>489434                             </td><td>15CM CHRISTMAS GLASS BALL 20 LIGHTS</td></tr>\n",
       "\t<tr><td>489434                             </td><td>PINK CHERRY LIGHTS                 </td></tr>\n",
       "\t<tr><td>489434                             </td><td> WHITE CHERRY LIGHTS               </td></tr>\n",
       "\t<tr><td>489434                             </td><td>RECORD FRAME 7\" SINGLE SIZE        </td></tr>\n",
       "\t<tr><td>489434                             </td><td>STRAWBERRY CERAMIC TRINKET BOX     </td></tr>\n",
       "\t<tr><td>489434                             </td><td>PINK DOUGHNUT TRINKET POT          </td></tr>\n",
       "</tbody>\n",
       "</table>\n"
      ],
      "text/latex": [
       "\\begin{tabular}{r|ll}\n",
       " Invoice & Description\\\\\n",
       "\\hline\n",
       "\t 489434                              & 15CM CHRISTMAS GLASS BALL 20 LIGHTS\\\\\n",
       "\t 489434                              & PINK CHERRY LIGHTS                 \\\\\n",
       "\t 489434                              &  WHITE CHERRY LIGHTS               \\\\\n",
       "\t 489434                              & RECORD FRAME 7\" SINGLE SIZE        \\\\\n",
       "\t 489434                              & STRAWBERRY CERAMIC TRINKET BOX     \\\\\n",
       "\t 489434                              & PINK DOUGHNUT TRINKET POT          \\\\\n",
       "\\end{tabular}\n"
      ],
      "text/markdown": [
       "\n",
       "| Invoice | Description |\n",
       "|---|---|\n",
       "| 489434                              | 15CM CHRISTMAS GLASS BALL 20 LIGHTS |\n",
       "| 489434                              | PINK CHERRY LIGHTS                  |\n",
       "| 489434                              |  WHITE CHERRY LIGHTS                |\n",
       "| 489434                              | RECORD FRAME 7\" SINGLE SIZE         |\n",
       "| 489434                              | STRAWBERRY CERAMIC TRINKET BOX      |\n",
       "| 489434                              | PINK DOUGHNUT TRINKET POT           |\n",
       "\n"
      ],
      "text/plain": [
       "  Invoice Description                        \n",
       "1 489434  15CM CHRISTMAS GLASS BALL 20 LIGHTS\n",
       "2 489434  PINK CHERRY LIGHTS                 \n",
       "3 489434   WHITE CHERRY LIGHTS               \n",
       "4 489434  RECORD FRAME 7\" SINGLE SIZE        \n",
       "5 489434  STRAWBERRY CERAMIC TRINKET BOX     \n",
       "6 489434  PINK DOUGHNUT TRINKET POT          "
      ]
     },
     "metadata": {},
     "output_type": "display_data"
    }
   ],
   "source": [
    "dataset <- dataset[c(1,3)]\n",
    "head(dataset)"
   ]
  },
  {
   "cell_type": "code",
   "execution_count": 10,
   "metadata": {},
   "outputs": [
    {
     "data": {
      "text/html": [
       "<table>\n",
       "<thead><tr><th scope=col>Invoice</th><th scope=col>purchased_products</th></tr></thead>\n",
       "<tbody>\n",
       "\t<tr><td>489434                                                                                                                                                                                                                                                                                                                                                                                                                                                                                                                                                                                                                                          </td><td> WHITE CHERRY LIGHTS,15CM CHRISTMAS GLASS BALL 20 LIGHTS,FANCY FONT HOME SWEET HOME DOORMAT,PINK CHERRY LIGHTS,PINK DOUGHNUT TRINKET POT ,RECORD FRAME 7\" SINGLE SIZE ,SAVE THE PLANET MUG,STRAWBERRY CERAMIC TRINKET BOX                                                                                                                                                                                                                                                                                                                                                                                                                       </td></tr>\n",
       "\t<tr><td>489435                                                                                                                                                                                                                                                                                                                                                                                                                                                                                                                                                                                                                                          </td><td>CAT BOWL ,DOG BOWL , CHASING BALL DESIGN,HEART MEASURING SPOONS LARGE,LUNCHBOX WITH CUTLERY FAIRY CAKES                                                                                                                                                                                                                                                                                                                                                                                                                                                                                                                                         </td></tr>\n",
       "\t<tr><td>489436                                                                                                                                                                                                                                                                                                                                                                                                                                                                                                                                                                                                                                          </td><td> PEACE WOODEN BLOCK LETTERS,AREA PATROLLED METAL SIGN,ASSORTED COLOUR BIRD ORNAMENT,BATH BUILDING BLOCK WORD,BISCUITS SMALL BOWL LIGHT BLUE,BLACK DINER WALL CLOCK,CHRISTMAS CRAFT WHITE FAIRY ,CLASSIC WHITE FRAME,DOOR MAT BLACK FLOCK ,FULL ENGLISH BREAKFAST PLATE,HEART FILIGREE DOVE LARGE,HEART IVORY TRELLIS LARGE,HOME BUILDING BLOCK WORD,LOVE BUILDING BLOCK WORD,PIZZA PLATE IN BOX,PLEASE ONE PERSON  METAL SIGN,SCOTTIE DOG HOT WATER BOTTLE,SET OF 3 BLACK FLYING DUCKS,SMALL MARSHMALLOWS PINK BOWL                                                                                                                             </td></tr>\n",
       "\t<tr><td>489437                                                                                                                                                                                                                                                                                                                                                                                                                                                                                                                                                                                                                                                                                              </td><td><span style=white-space:pre-wrap>BLUE PADDED SOFT MOBILE,CHOCOLATE HOT WATER BOTTLE,CHRISTMAS CRAFT HEART DECORATIONS,CHRISTMAS CRAFT HEART STOCKING ,CINAMMON &amp; ORANGE WREATH,EUCALYPTUS &amp; PINECONE  WREATH,FELTCRAFT DOLL EMILY,FELTCRAFT DOLL MARIA,FELTCRAFT DOLL ROSIE,FLORAL BLUE MONSTER,HANGING HEART ZINC T-LIGHT HOLDER,INFLATABLE POLITICAL GLOBE ,JOY LARGE WOOD LETTERS,PACK OF 20 SKULL PAPER NAPKINS,PACK OF 6 SKULL PAPER CUPS,PARTY CONE CHRISTMAS DECORATION ,PEACE SMALL WOOD LETTERS,PINK BLUE FELT CRAFT TRINKET BOX,RETRO COFFEE MUGS ASSORTED,SCOTTIE DOG HOT WATER BOTTLE,STRIPES DESIGN MONKEY DOLL,VINTAGE SNAKES &amp; LADDERS,WOODEN BOX ADVENT CALENDAR </span></td></tr>\n",
       "\t<tr><td>489438                                                                                                                                                                                                                                                                                                                                                                                                                                                                                                                                                                                                                                                                                          </td><td><span style=white-space:pre-wrap>CARROT CHARLIE+LOLA COASTER SET,CHARLIE &amp; LOLA WASTEPAPER BIN BLUE,CHARLIE &amp; LOLA WASTEPAPER BIN FLORA,CHARLIE + LOLA BISCUITS TINS,CHARLIE + LOLA RED HOT WATER BOTTLE,CHARLIE AND LOLA CHARLOTTE BAG,CHARLIE AND LOLA FIGURES TINS,CHARLIE LOLA BLUE HOT WATER BOTTLE ,CHARLIE+LOLA PINK HOT WATER BOTTLE,CHARLIE+LOLA RED HOT WATER BOTTLE ,COUNTRY COTTAGE  DOORSTOP GREEN,DINOSAURS  WRITING SET ,GINGHAM HEART  DOORSTOP RED,JUMBO BAG CHARLIE AND LOLA TOYS,JUMBO BAG TOYS ,SET OF MEADOW  FLOWER STICKERS,TOMATO CHARLIE+LOLA COASTER SET                                                                                               </span></td></tr>\n",
       "\t<tr><td>489439                                                                                                                                                                                                                                                                                                                                                                                                                                                                                                                                                                                                                                          </td><td> VINTAGE DESIGN GIFT TAGS,ASSORTED CAKES FRIDGE MAGNETS,ASSORTED COLOUR MINI CASES,BAKING SET 9 PIECE RETROSPOT ,BLACK/BLUE DOTS RUFFLED UMBRELLA,CHRISTMAS PUDDING TRINKET POT ,LUNCHBOX WITH CUTLERY RETROSPOT ,PACK 20 DOLLY PEGS,PARTY CONE CHRISTMAS DECORATION ,PINK DOUGHNUT TRINKET POT ,RED TOADSTOOL LED NIGHT LIGHT,RED/WHITE DOTS RUFFLED UMBRELLA,RETRO SPORT PARTY BAG + STICKER SET,RETRO SPOT TEA SET CERAMIC 11 PC ,SET OF THREE VINTAGE GIFT WRAPS,SET/3 RUSSIAN DOLL STACKING TINS,WRAP BLUE RUSSIAN FOLKART,WRAP ENGLISH ROSE                                                                                               </td></tr>\n",
       "</tbody>\n",
       "</table>\n"
      ],
      "text/latex": [
       "\\begin{tabular}{r|ll}\n",
       " Invoice & purchased\\_products\\\\\n",
       "\\hline\n",
       "\t 489434                                                                                                                                                                                                                                                                                                                                                                                                                                                                                                                                                                                                                                           &  WHITE CHERRY LIGHTS,15CM CHRISTMAS GLASS BALL 20 LIGHTS,FANCY FONT HOME SWEET HOME DOORMAT,PINK CHERRY LIGHTS,PINK DOUGHNUT TRINKET POT ,RECORD FRAME 7\" SINGLE SIZE ,SAVE THE PLANET MUG,STRAWBERRY CERAMIC TRINKET BOX                                                                                                                                                                                                                                                                                                                                                                                                                       \\\\\n",
       "\t 489435                                                                                                                                                                                                                                                                                                                                                                                                                                                                                                                                                                                                                                           & CAT BOWL ,DOG BOWL , CHASING BALL DESIGN,HEART MEASURING SPOONS LARGE,LUNCHBOX WITH CUTLERY FAIRY CAKES                                                                                                                                                                                                                                                                                                                                                                                                                                                                                                                                         \\\\\n",
       "\t 489436                                                                                                                                                                                                                                                                                                                                                                                                                                                                                                                                                                                                                                           &  PEACE WOODEN BLOCK LETTERS,AREA PATROLLED METAL SIGN,ASSORTED COLOUR BIRD ORNAMENT,BATH BUILDING BLOCK WORD,BISCUITS SMALL BOWL LIGHT BLUE,BLACK DINER WALL CLOCK,CHRISTMAS CRAFT WHITE FAIRY ,CLASSIC WHITE FRAME,DOOR MAT BLACK FLOCK ,FULL ENGLISH BREAKFAST PLATE,HEART FILIGREE DOVE LARGE,HEART IVORY TRELLIS LARGE,HOME BUILDING BLOCK WORD,LOVE BUILDING BLOCK WORD,PIZZA PLATE IN BOX,PLEASE ONE PERSON  METAL SIGN,SCOTTIE DOG HOT WATER BOTTLE,SET OF 3 BLACK FLYING DUCKS,SMALL MARSHMALLOWS PINK BOWL                                                                                                                             \\\\\n",
       "\t 489437                                                                                                                                                                                                                                                                                                                                                                                                                                                                                                                                                                                                                                                 & BLUE PADDED SOFT MOBILE,CHOCOLATE HOT WATER BOTTLE,CHRISTMAS CRAFT HEART DECORATIONS,CHRISTMAS CRAFT HEART STOCKING ,CINAMMON \\& ORANGE WREATH,EUCALYPTUS \\& PINECONE  WREATH,FELTCRAFT DOLL EMILY,FELTCRAFT DOLL MARIA,FELTCRAFT DOLL ROSIE,FLORAL BLUE MONSTER,HANGING HEART ZINC T-LIGHT HOLDER,INFLATABLE POLITICAL GLOBE ,JOY LARGE WOOD LETTERS,PACK OF 20 SKULL PAPER NAPKINS,PACK OF 6 SKULL PAPER CUPS,PARTY CONE CHRISTMAS DECORATION ,PEACE SMALL WOOD LETTERS,PINK BLUE FELT CRAFT TRINKET BOX,RETRO COFFEE MUGS ASSORTED,SCOTTIE DOG HOT WATER BOTTLE,STRIPES DESIGN MONKEY DOLL,VINTAGE SNAKES \\& LADDERS,WOODEN BOX ADVENT CALENDAR \\\\\n",
       "\t 489438                                                                                                                                                                                                                                                                                                                                                                                                                                                                                                                                                                                                                                               & CARROT CHARLIE+LOLA COASTER SET,CHARLIE \\& LOLA WASTEPAPER BIN BLUE,CHARLIE \\& LOLA WASTEPAPER BIN FLORA,CHARLIE + LOLA BISCUITS TINS,CHARLIE + LOLA RED HOT WATER BOTTLE,CHARLIE AND LOLA CHARLOTTE BAG,CHARLIE AND LOLA FIGURES TINS,CHARLIE LOLA BLUE HOT WATER BOTTLE ,CHARLIE+LOLA PINK HOT WATER BOTTLE,CHARLIE+LOLA RED HOT WATER BOTTLE ,COUNTRY COTTAGE  DOORSTOP GREEN,DINOSAURS  WRITING SET ,GINGHAM HEART  DOORSTOP RED,JUMBO BAG CHARLIE AND LOLA TOYS,JUMBO BAG TOYS ,SET OF MEADOW  FLOWER STICKERS,TOMATO CHARLIE+LOLA COASTER SET                                                                                               \\\\\n",
       "\t 489439                                                                                                                                                                                                                                                                                                                                                                                                                                                                                                                                                                                                                                           &  VINTAGE DESIGN GIFT TAGS,ASSORTED CAKES FRIDGE MAGNETS,ASSORTED COLOUR MINI CASES,BAKING SET 9 PIECE RETROSPOT ,BLACK/BLUE DOTS RUFFLED UMBRELLA,CHRISTMAS PUDDING TRINKET POT ,LUNCHBOX WITH CUTLERY RETROSPOT ,PACK 20 DOLLY PEGS,PARTY CONE CHRISTMAS DECORATION ,PINK DOUGHNUT TRINKET POT ,RED TOADSTOOL LED NIGHT LIGHT,RED/WHITE DOTS RUFFLED UMBRELLA,RETRO SPORT PARTY BAG + STICKER SET,RETRO SPOT TEA SET CERAMIC 11 PC ,SET OF THREE VINTAGE GIFT WRAPS,SET/3 RUSSIAN DOLL STACKING TINS,WRAP BLUE RUSSIAN FOLKART,WRAP ENGLISH ROSE                                                                                               \\\\\n",
       "\\end{tabular}\n"
      ],
      "text/markdown": [
       "\n",
       "| Invoice | purchased_products |\n",
       "|---|---|\n",
       "| 489434                                                                                                                                                                                                                                                                                                                                                                                                                                                                                                                                                                                                                                           |  WHITE CHERRY LIGHTS,15CM CHRISTMAS GLASS BALL 20 LIGHTS,FANCY FONT HOME SWEET HOME DOORMAT,PINK CHERRY LIGHTS,PINK DOUGHNUT TRINKET POT ,RECORD FRAME 7\" SINGLE SIZE ,SAVE THE PLANET MUG,STRAWBERRY CERAMIC TRINKET BOX                                                                                                                                                                                                                                                                                                                                                                                                                        |\n",
       "| 489435                                                                                                                                                                                                                                                                                                                                                                                                                                                                                                                                                                                                                                           | CAT BOWL ,DOG BOWL , CHASING BALL DESIGN,HEART MEASURING SPOONS LARGE,LUNCHBOX WITH CUTLERY FAIRY CAKES                                                                                                                                                                                                                                                                                                                                                                                                                                                                                                                                          |\n",
       "| 489436                                                                                                                                                                                                                                                                                                                                                                                                                                                                                                                                                                                                                                           |  PEACE WOODEN BLOCK LETTERS,AREA PATROLLED METAL SIGN,ASSORTED COLOUR BIRD ORNAMENT,BATH BUILDING BLOCK WORD,BISCUITS SMALL BOWL LIGHT BLUE,BLACK DINER WALL CLOCK,CHRISTMAS CRAFT WHITE FAIRY ,CLASSIC WHITE FRAME,DOOR MAT BLACK FLOCK ,FULL ENGLISH BREAKFAST PLATE,HEART FILIGREE DOVE LARGE,HEART IVORY TRELLIS LARGE,HOME BUILDING BLOCK WORD,LOVE BUILDING BLOCK WORD,PIZZA PLATE IN BOX,PLEASE ONE PERSON  METAL SIGN,SCOTTIE DOG HOT WATER BOTTLE,SET OF 3 BLACK FLYING DUCKS,SMALL MARSHMALLOWS PINK BOWL                                                                                                                              |\n",
       "| 489437                                                                                                                                                                                                                                                                                                                                                                                                                                                                                                                                                                                                                                           | BLUE PADDED SOFT MOBILE,CHOCOLATE HOT WATER BOTTLE,CHRISTMAS CRAFT HEART DECORATIONS,CHRISTMAS CRAFT HEART STOCKING ,CINAMMON & ORANGE WREATH,EUCALYPTUS & PINECONE  WREATH,FELTCRAFT DOLL EMILY,FELTCRAFT DOLL MARIA,FELTCRAFT DOLL ROSIE,FLORAL BLUE MONSTER,HANGING HEART ZINC T-LIGHT HOLDER,INFLATABLE POLITICAL GLOBE ,JOY LARGE WOOD LETTERS,PACK OF 20 SKULL PAPER NAPKINS,PACK OF 6 SKULL PAPER CUPS,PARTY CONE CHRISTMAS DECORATION ,PEACE SMALL WOOD LETTERS,PINK BLUE FELT CRAFT TRINKET BOX,RETRO COFFEE MUGS ASSORTED,SCOTTIE DOG HOT WATER BOTTLE,STRIPES DESIGN MONKEY DOLL,VINTAGE SNAKES & LADDERS,WOODEN BOX ADVENT CALENDAR  |\n",
       "| 489438                                                                                                                                                                                                                                                                                                                                                                                                                                                                                                                                                                                                                                           | CARROT CHARLIE+LOLA COASTER SET,CHARLIE & LOLA WASTEPAPER BIN BLUE,CHARLIE & LOLA WASTEPAPER BIN FLORA,CHARLIE + LOLA BISCUITS TINS,CHARLIE + LOLA RED HOT WATER BOTTLE,CHARLIE AND LOLA CHARLOTTE BAG,CHARLIE AND LOLA FIGURES TINS,CHARLIE LOLA BLUE HOT WATER BOTTLE ,CHARLIE+LOLA PINK HOT WATER BOTTLE,CHARLIE+LOLA RED HOT WATER BOTTLE ,COUNTRY COTTAGE  DOORSTOP GREEN,DINOSAURS  WRITING SET ,GINGHAM HEART  DOORSTOP RED,JUMBO BAG CHARLIE AND LOLA TOYS,JUMBO BAG TOYS ,SET OF MEADOW  FLOWER STICKERS,TOMATO CHARLIE+LOLA COASTER SET                                                                                                |\n",
       "| 489439                                                                                                                                                                                                                                                                                                                                                                                                                                                                                                                                                                                                                                           |  VINTAGE DESIGN GIFT TAGS,ASSORTED CAKES FRIDGE MAGNETS,ASSORTED COLOUR MINI CASES,BAKING SET 9 PIECE RETROSPOT ,BLACK/BLUE DOTS RUFFLED UMBRELLA,CHRISTMAS PUDDING TRINKET POT ,LUNCHBOX WITH CUTLERY RETROSPOT ,PACK 20 DOLLY PEGS,PARTY CONE CHRISTMAS DECORATION ,PINK DOUGHNUT TRINKET POT ,RED TOADSTOOL LED NIGHT LIGHT,RED/WHITE DOTS RUFFLED UMBRELLA,RETRO SPORT PARTY BAG + STICKER SET,RETRO SPOT TEA SET CERAMIC 11 PC ,SET OF THREE VINTAGE GIFT WRAPS,SET/3 RUSSIAN DOLL STACKING TINS,WRAP BLUE RUSSIAN FOLKART,WRAP ENGLISH ROSE                                                                                                |\n",
       "\n"
      ],
      "text/plain": [
       "  Invoice\n",
       "1 489434 \n",
       "2 489435 \n",
       "3 489436 \n",
       "4 489437 \n",
       "5 489438 \n",
       "6 489439 \n",
       "  purchased_products                                                                                                                                                                                                                                                                                                                                                                                                                                                                                                                                                                                                                              \n",
       "1  WHITE CHERRY LIGHTS,15CM CHRISTMAS GLASS BALL 20 LIGHTS,FANCY FONT HOME SWEET HOME DOORMAT,PINK CHERRY LIGHTS,PINK DOUGHNUT TRINKET POT ,RECORD FRAME 7\" SINGLE SIZE ,SAVE THE PLANET MUG,STRAWBERRY CERAMIC TRINKET BOX                                                                                                                                                                                                                                                                                                                                                                                                                       \n",
       "2 CAT BOWL ,DOG BOWL , CHASING BALL DESIGN,HEART MEASURING SPOONS LARGE,LUNCHBOX WITH CUTLERY FAIRY CAKES                                                                                                                                                                                                                                                                                                                                                                                                                                                                                                                                         \n",
       "3  PEACE WOODEN BLOCK LETTERS,AREA PATROLLED METAL SIGN,ASSORTED COLOUR BIRD ORNAMENT,BATH BUILDING BLOCK WORD,BISCUITS SMALL BOWL LIGHT BLUE,BLACK DINER WALL CLOCK,CHRISTMAS CRAFT WHITE FAIRY ,CLASSIC WHITE FRAME,DOOR MAT BLACK FLOCK ,FULL ENGLISH BREAKFAST PLATE,HEART FILIGREE DOVE LARGE,HEART IVORY TRELLIS LARGE,HOME BUILDING BLOCK WORD,LOVE BUILDING BLOCK WORD,PIZZA PLATE IN BOX,PLEASE ONE PERSON  METAL SIGN,SCOTTIE DOG HOT WATER BOTTLE,SET OF 3 BLACK FLYING DUCKS,SMALL MARSHMALLOWS PINK BOWL                                                                                                                             \n",
       "4 BLUE PADDED SOFT MOBILE,CHOCOLATE HOT WATER BOTTLE,CHRISTMAS CRAFT HEART DECORATIONS,CHRISTMAS CRAFT HEART STOCKING ,CINAMMON & ORANGE WREATH,EUCALYPTUS & PINECONE  WREATH,FELTCRAFT DOLL EMILY,FELTCRAFT DOLL MARIA,FELTCRAFT DOLL ROSIE,FLORAL BLUE MONSTER,HANGING HEART ZINC T-LIGHT HOLDER,INFLATABLE POLITICAL GLOBE ,JOY LARGE WOOD LETTERS,PACK OF 20 SKULL PAPER NAPKINS,PACK OF 6 SKULL PAPER CUPS,PARTY CONE CHRISTMAS DECORATION ,PEACE SMALL WOOD LETTERS,PINK BLUE FELT CRAFT TRINKET BOX,RETRO COFFEE MUGS ASSORTED,SCOTTIE DOG HOT WATER BOTTLE,STRIPES DESIGN MONKEY DOLL,VINTAGE SNAKES & LADDERS,WOODEN BOX ADVENT CALENDAR \n",
       "5 CARROT CHARLIE+LOLA COASTER SET,CHARLIE & LOLA WASTEPAPER BIN BLUE,CHARLIE & LOLA WASTEPAPER BIN FLORA,CHARLIE + LOLA BISCUITS TINS,CHARLIE + LOLA RED HOT WATER BOTTLE,CHARLIE AND LOLA CHARLOTTE BAG,CHARLIE AND LOLA FIGURES TINS,CHARLIE LOLA BLUE HOT WATER BOTTLE ,CHARLIE+LOLA PINK HOT WATER BOTTLE,CHARLIE+LOLA RED HOT WATER BOTTLE ,COUNTRY COTTAGE  DOORSTOP GREEN,DINOSAURS  WRITING SET ,GINGHAM HEART  DOORSTOP RED,JUMBO BAG CHARLIE AND LOLA TOYS,JUMBO BAG TOYS ,SET OF MEADOW  FLOWER STICKERS,TOMATO CHARLIE+LOLA COASTER SET                                                                                               \n",
       "6  VINTAGE DESIGN GIFT TAGS,ASSORTED CAKES FRIDGE MAGNETS,ASSORTED COLOUR MINI CASES,BAKING SET 9 PIECE RETROSPOT ,BLACK/BLUE DOTS RUFFLED UMBRELLA,CHRISTMAS PUDDING TRINKET POT ,LUNCHBOX WITH CUTLERY RETROSPOT ,PACK 20 DOLLY PEGS,PARTY CONE CHRISTMAS DECORATION ,PINK DOUGHNUT TRINKET POT ,RED TOADSTOOL LED NIGHT LIGHT,RED/WHITE DOTS RUFFLED UMBRELLA,RETRO SPORT PARTY BAG + STICKER SET,RETRO SPOT TEA SET CERAMIC 11 PC ,SET OF THREE VINTAGE GIFT WRAPS,SET/3 RUSSIAN DOLL STACKING TINS,WRAP BLUE RUSSIAN FOLKART,WRAP ENGLISH ROSE                                                                                               "
      ]
     },
     "metadata": {},
     "output_type": "display_data"
    }
   ],
   "source": [
    "dataset <- dataset %>%\n",
    "  group_by(Invoice)%>% \n",
    "  arrange(Description) %>%\n",
    "  summarise(purchased_products = paste(Description, collapse =\",\"))\n",
    "head(dataset)"
   ]
  },
  {
   "cell_type": "markdown",
   "metadata": {},
   "source": [
    "In apriori() we will use only the purchased_products column. \n"
   ]
  },
  {
   "cell_type": "code",
   "execution_count": 11,
   "metadata": {},
   "outputs": [],
   "source": [
    "dataset <- dataset[2]"
   ]
  },
  {
   "cell_type": "code",
   "execution_count": 12,
   "metadata": {},
   "outputs": [
    {
     "data": {
      "text/html": [
       "<table>\n",
       "<thead><tr><th scope=col>purchased_products</th></tr></thead>\n",
       "<tbody>\n",
       "\t<tr><td> WHITE CHERRY LIGHTS,15CM CHRISTMAS GLASS BALL 20 LIGHTS,FANCY FONT HOME SWEET HOME DOORMAT,PINK CHERRY LIGHTS,PINK DOUGHNUT TRINKET POT ,RECORD FRAME 7\" SINGLE SIZE ,SAVE THE PLANET MUG,STRAWBERRY CERAMIC TRINKET BOX                                                                                                                                                                                                                                                                                                                                                                                                                       </td></tr>\n",
       "\t<tr><td>CAT BOWL ,DOG BOWL , CHASING BALL DESIGN,HEART MEASURING SPOONS LARGE,LUNCHBOX WITH CUTLERY FAIRY CAKES                                                                                                                                                                                                                                                                                                                                                                                                                                                                                                                                         </td></tr>\n",
       "\t<tr><td> PEACE WOODEN BLOCK LETTERS,AREA PATROLLED METAL SIGN,ASSORTED COLOUR BIRD ORNAMENT,BATH BUILDING BLOCK WORD,BISCUITS SMALL BOWL LIGHT BLUE,BLACK DINER WALL CLOCK,CHRISTMAS CRAFT WHITE FAIRY ,CLASSIC WHITE FRAME,DOOR MAT BLACK FLOCK ,FULL ENGLISH BREAKFAST PLATE,HEART FILIGREE DOVE LARGE,HEART IVORY TRELLIS LARGE,HOME BUILDING BLOCK WORD,LOVE BUILDING BLOCK WORD,PIZZA PLATE IN BOX,PLEASE ONE PERSON  METAL SIGN,SCOTTIE DOG HOT WATER BOTTLE,SET OF 3 BLACK FLYING DUCKS,SMALL MARSHMALLOWS PINK BOWL                                                                                                                             </td></tr>\n",
       "\t<tr><td><span style=white-space:pre-wrap>BLUE PADDED SOFT MOBILE,CHOCOLATE HOT WATER BOTTLE,CHRISTMAS CRAFT HEART DECORATIONS,CHRISTMAS CRAFT HEART STOCKING ,CINAMMON &amp; ORANGE WREATH,EUCALYPTUS &amp; PINECONE  WREATH,FELTCRAFT DOLL EMILY,FELTCRAFT DOLL MARIA,FELTCRAFT DOLL ROSIE,FLORAL BLUE MONSTER,HANGING HEART ZINC T-LIGHT HOLDER,INFLATABLE POLITICAL GLOBE ,JOY LARGE WOOD LETTERS,PACK OF 20 SKULL PAPER NAPKINS,PACK OF 6 SKULL PAPER CUPS,PARTY CONE CHRISTMAS DECORATION ,PEACE SMALL WOOD LETTERS,PINK BLUE FELT CRAFT TRINKET BOX,RETRO COFFEE MUGS ASSORTED,SCOTTIE DOG HOT WATER BOTTLE,STRIPES DESIGN MONKEY DOLL,VINTAGE SNAKES &amp; LADDERS,WOODEN BOX ADVENT CALENDAR </span></td></tr>\n",
       "\t<tr><td><span style=white-space:pre-wrap>CARROT CHARLIE+LOLA COASTER SET,CHARLIE &amp; LOLA WASTEPAPER BIN BLUE,CHARLIE &amp; LOLA WASTEPAPER BIN FLORA,CHARLIE + LOLA BISCUITS TINS,CHARLIE + LOLA RED HOT WATER BOTTLE,CHARLIE AND LOLA CHARLOTTE BAG,CHARLIE AND LOLA FIGURES TINS,CHARLIE LOLA BLUE HOT WATER BOTTLE ,CHARLIE+LOLA PINK HOT WATER BOTTLE,CHARLIE+LOLA RED HOT WATER BOTTLE ,COUNTRY COTTAGE  DOORSTOP GREEN,DINOSAURS  WRITING SET ,GINGHAM HEART  DOORSTOP RED,JUMBO BAG CHARLIE AND LOLA TOYS,JUMBO BAG TOYS ,SET OF MEADOW  FLOWER STICKERS,TOMATO CHARLIE+LOLA COASTER SET                                                                                               </span></td></tr>\n",
       "\t<tr><td> VINTAGE DESIGN GIFT TAGS,ASSORTED CAKES FRIDGE MAGNETS,ASSORTED COLOUR MINI CASES,BAKING SET 9 PIECE RETROSPOT ,BLACK/BLUE DOTS RUFFLED UMBRELLA,CHRISTMAS PUDDING TRINKET POT ,LUNCHBOX WITH CUTLERY RETROSPOT ,PACK 20 DOLLY PEGS,PARTY CONE CHRISTMAS DECORATION ,PINK DOUGHNUT TRINKET POT ,RED TOADSTOOL LED NIGHT LIGHT,RED/WHITE DOTS RUFFLED UMBRELLA,RETRO SPORT PARTY BAG + STICKER SET,RETRO SPOT TEA SET CERAMIC 11 PC ,SET OF THREE VINTAGE GIFT WRAPS,SET/3 RUSSIAN DOLL STACKING TINS,WRAP BLUE RUSSIAN FOLKART,WRAP ENGLISH ROSE                                                                                               </td></tr>\n",
       "</tbody>\n",
       "</table>\n"
      ],
      "text/latex": [
       "\\begin{tabular}{r|l}\n",
       " purchased\\_products\\\\\n",
       "\\hline\n",
       "\t  WHITE CHERRY LIGHTS,15CM CHRISTMAS GLASS BALL 20 LIGHTS,FANCY FONT HOME SWEET HOME DOORMAT,PINK CHERRY LIGHTS,PINK DOUGHNUT TRINKET POT ,RECORD FRAME 7\" SINGLE SIZE ,SAVE THE PLANET MUG,STRAWBERRY CERAMIC TRINKET BOX                                                                                                                                                                                                                                                                                                                                                                                                                       \\\\\n",
       "\t CAT BOWL ,DOG BOWL , CHASING BALL DESIGN,HEART MEASURING SPOONS LARGE,LUNCHBOX WITH CUTLERY FAIRY CAKES                                                                                                                                                                                                                                                                                                                                                                                                                                                                                                                                         \\\\\n",
       "\t  PEACE WOODEN BLOCK LETTERS,AREA PATROLLED METAL SIGN,ASSORTED COLOUR BIRD ORNAMENT,BATH BUILDING BLOCK WORD,BISCUITS SMALL BOWL LIGHT BLUE,BLACK DINER WALL CLOCK,CHRISTMAS CRAFT WHITE FAIRY ,CLASSIC WHITE FRAME,DOOR MAT BLACK FLOCK ,FULL ENGLISH BREAKFAST PLATE,HEART FILIGREE DOVE LARGE,HEART IVORY TRELLIS LARGE,HOME BUILDING BLOCK WORD,LOVE BUILDING BLOCK WORD,PIZZA PLATE IN BOX,PLEASE ONE PERSON  METAL SIGN,SCOTTIE DOG HOT WATER BOTTLE,SET OF 3 BLACK FLYING DUCKS,SMALL MARSHMALLOWS PINK BOWL                                                                                                                             \\\\\n",
       "\t BLUE PADDED SOFT MOBILE,CHOCOLATE HOT WATER BOTTLE,CHRISTMAS CRAFT HEART DECORATIONS,CHRISTMAS CRAFT HEART STOCKING ,CINAMMON \\& ORANGE WREATH,EUCALYPTUS \\& PINECONE  WREATH,FELTCRAFT DOLL EMILY,FELTCRAFT DOLL MARIA,FELTCRAFT DOLL ROSIE,FLORAL BLUE MONSTER,HANGING HEART ZINC T-LIGHT HOLDER,INFLATABLE POLITICAL GLOBE ,JOY LARGE WOOD LETTERS,PACK OF 20 SKULL PAPER NAPKINS,PACK OF 6 SKULL PAPER CUPS,PARTY CONE CHRISTMAS DECORATION ,PEACE SMALL WOOD LETTERS,PINK BLUE FELT CRAFT TRINKET BOX,RETRO COFFEE MUGS ASSORTED,SCOTTIE DOG HOT WATER BOTTLE,STRIPES DESIGN MONKEY DOLL,VINTAGE SNAKES \\& LADDERS,WOODEN BOX ADVENT CALENDAR \\\\\n",
       "\t CARROT CHARLIE+LOLA COASTER SET,CHARLIE \\& LOLA WASTEPAPER BIN BLUE,CHARLIE \\& LOLA WASTEPAPER BIN FLORA,CHARLIE + LOLA BISCUITS TINS,CHARLIE + LOLA RED HOT WATER BOTTLE,CHARLIE AND LOLA CHARLOTTE BAG,CHARLIE AND LOLA FIGURES TINS,CHARLIE LOLA BLUE HOT WATER BOTTLE ,CHARLIE+LOLA PINK HOT WATER BOTTLE,CHARLIE+LOLA RED HOT WATER BOTTLE ,COUNTRY COTTAGE  DOORSTOP GREEN,DINOSAURS  WRITING SET ,GINGHAM HEART  DOORSTOP RED,JUMBO BAG CHARLIE AND LOLA TOYS,JUMBO BAG TOYS ,SET OF MEADOW  FLOWER STICKERS,TOMATO CHARLIE+LOLA COASTER SET                                                                                               \\\\\n",
       "\t  VINTAGE DESIGN GIFT TAGS,ASSORTED CAKES FRIDGE MAGNETS,ASSORTED COLOUR MINI CASES,BAKING SET 9 PIECE RETROSPOT ,BLACK/BLUE DOTS RUFFLED UMBRELLA,CHRISTMAS PUDDING TRINKET POT ,LUNCHBOX WITH CUTLERY RETROSPOT ,PACK 20 DOLLY PEGS,PARTY CONE CHRISTMAS DECORATION ,PINK DOUGHNUT TRINKET POT ,RED TOADSTOOL LED NIGHT LIGHT,RED/WHITE DOTS RUFFLED UMBRELLA,RETRO SPORT PARTY BAG + STICKER SET,RETRO SPOT TEA SET CERAMIC 11 PC ,SET OF THREE VINTAGE GIFT WRAPS,SET/3 RUSSIAN DOLL STACKING TINS,WRAP BLUE RUSSIAN FOLKART,WRAP ENGLISH ROSE                                                                                               \\\\\n",
       "\\end{tabular}\n"
      ],
      "text/markdown": [
       "\n",
       "| purchased_products |\n",
       "|---|\n",
       "|  WHITE CHERRY LIGHTS,15CM CHRISTMAS GLASS BALL 20 LIGHTS,FANCY FONT HOME SWEET HOME DOORMAT,PINK CHERRY LIGHTS,PINK DOUGHNUT TRINKET POT ,RECORD FRAME 7\" SINGLE SIZE ,SAVE THE PLANET MUG,STRAWBERRY CERAMIC TRINKET BOX                                                                                                                                                                                                                                                                                                                                                                                                                        |\n",
       "| CAT BOWL ,DOG BOWL , CHASING BALL DESIGN,HEART MEASURING SPOONS LARGE,LUNCHBOX WITH CUTLERY FAIRY CAKES                                                                                                                                                                                                                                                                                                                                                                                                                                                                                                                                          |\n",
       "|  PEACE WOODEN BLOCK LETTERS,AREA PATROLLED METAL SIGN,ASSORTED COLOUR BIRD ORNAMENT,BATH BUILDING BLOCK WORD,BISCUITS SMALL BOWL LIGHT BLUE,BLACK DINER WALL CLOCK,CHRISTMAS CRAFT WHITE FAIRY ,CLASSIC WHITE FRAME,DOOR MAT BLACK FLOCK ,FULL ENGLISH BREAKFAST PLATE,HEART FILIGREE DOVE LARGE,HEART IVORY TRELLIS LARGE,HOME BUILDING BLOCK WORD,LOVE BUILDING BLOCK WORD,PIZZA PLATE IN BOX,PLEASE ONE PERSON  METAL SIGN,SCOTTIE DOG HOT WATER BOTTLE,SET OF 3 BLACK FLYING DUCKS,SMALL MARSHMALLOWS PINK BOWL                                                                                                                              |\n",
       "| BLUE PADDED SOFT MOBILE,CHOCOLATE HOT WATER BOTTLE,CHRISTMAS CRAFT HEART DECORATIONS,CHRISTMAS CRAFT HEART STOCKING ,CINAMMON & ORANGE WREATH,EUCALYPTUS & PINECONE  WREATH,FELTCRAFT DOLL EMILY,FELTCRAFT DOLL MARIA,FELTCRAFT DOLL ROSIE,FLORAL BLUE MONSTER,HANGING HEART ZINC T-LIGHT HOLDER,INFLATABLE POLITICAL GLOBE ,JOY LARGE WOOD LETTERS,PACK OF 20 SKULL PAPER NAPKINS,PACK OF 6 SKULL PAPER CUPS,PARTY CONE CHRISTMAS DECORATION ,PEACE SMALL WOOD LETTERS,PINK BLUE FELT CRAFT TRINKET BOX,RETRO COFFEE MUGS ASSORTED,SCOTTIE DOG HOT WATER BOTTLE,STRIPES DESIGN MONKEY DOLL,VINTAGE SNAKES & LADDERS,WOODEN BOX ADVENT CALENDAR  |\n",
       "| CARROT CHARLIE+LOLA COASTER SET,CHARLIE & LOLA WASTEPAPER BIN BLUE,CHARLIE & LOLA WASTEPAPER BIN FLORA,CHARLIE + LOLA BISCUITS TINS,CHARLIE + LOLA RED HOT WATER BOTTLE,CHARLIE AND LOLA CHARLOTTE BAG,CHARLIE AND LOLA FIGURES TINS,CHARLIE LOLA BLUE HOT WATER BOTTLE ,CHARLIE+LOLA PINK HOT WATER BOTTLE,CHARLIE+LOLA RED HOT WATER BOTTLE ,COUNTRY COTTAGE  DOORSTOP GREEN,DINOSAURS  WRITING SET ,GINGHAM HEART  DOORSTOP RED,JUMBO BAG CHARLIE AND LOLA TOYS,JUMBO BAG TOYS ,SET OF MEADOW  FLOWER STICKERS,TOMATO CHARLIE+LOLA COASTER SET                                                                                                |\n",
       "|  VINTAGE DESIGN GIFT TAGS,ASSORTED CAKES FRIDGE MAGNETS,ASSORTED COLOUR MINI CASES,BAKING SET 9 PIECE RETROSPOT ,BLACK/BLUE DOTS RUFFLED UMBRELLA,CHRISTMAS PUDDING TRINKET POT ,LUNCHBOX WITH CUTLERY RETROSPOT ,PACK 20 DOLLY PEGS,PARTY CONE CHRISTMAS DECORATION ,PINK DOUGHNUT TRINKET POT ,RED TOADSTOOL LED NIGHT LIGHT,RED/WHITE DOTS RUFFLED UMBRELLA,RETRO SPORT PARTY BAG + STICKER SET,RETRO SPOT TEA SET CERAMIC 11 PC ,SET OF THREE VINTAGE GIFT WRAPS,SET/3 RUSSIAN DOLL STACKING TINS,WRAP BLUE RUSSIAN FOLKART,WRAP ENGLISH ROSE                                                                                                |\n",
       "\n"
      ],
      "text/plain": [
       "  purchased_products                                                                                                                                                                                                                                                                                                                                                                                                                                                                                                                                                                                                                              \n",
       "1  WHITE CHERRY LIGHTS,15CM CHRISTMAS GLASS BALL 20 LIGHTS,FANCY FONT HOME SWEET HOME DOORMAT,PINK CHERRY LIGHTS,PINK DOUGHNUT TRINKET POT ,RECORD FRAME 7\" SINGLE SIZE ,SAVE THE PLANET MUG,STRAWBERRY CERAMIC TRINKET BOX                                                                                                                                                                                                                                                                                                                                                                                                                       \n",
       "2 CAT BOWL ,DOG BOWL , CHASING BALL DESIGN,HEART MEASURING SPOONS LARGE,LUNCHBOX WITH CUTLERY FAIRY CAKES                                                                                                                                                                                                                                                                                                                                                                                                                                                                                                                                         \n",
       "3  PEACE WOODEN BLOCK LETTERS,AREA PATROLLED METAL SIGN,ASSORTED COLOUR BIRD ORNAMENT,BATH BUILDING BLOCK WORD,BISCUITS SMALL BOWL LIGHT BLUE,BLACK DINER WALL CLOCK,CHRISTMAS CRAFT WHITE FAIRY ,CLASSIC WHITE FRAME,DOOR MAT BLACK FLOCK ,FULL ENGLISH BREAKFAST PLATE,HEART FILIGREE DOVE LARGE,HEART IVORY TRELLIS LARGE,HOME BUILDING BLOCK WORD,LOVE BUILDING BLOCK WORD,PIZZA PLATE IN BOX,PLEASE ONE PERSON  METAL SIGN,SCOTTIE DOG HOT WATER BOTTLE,SET OF 3 BLACK FLYING DUCKS,SMALL MARSHMALLOWS PINK BOWL                                                                                                                             \n",
       "4 BLUE PADDED SOFT MOBILE,CHOCOLATE HOT WATER BOTTLE,CHRISTMAS CRAFT HEART DECORATIONS,CHRISTMAS CRAFT HEART STOCKING ,CINAMMON & ORANGE WREATH,EUCALYPTUS & PINECONE  WREATH,FELTCRAFT DOLL EMILY,FELTCRAFT DOLL MARIA,FELTCRAFT DOLL ROSIE,FLORAL BLUE MONSTER,HANGING HEART ZINC T-LIGHT HOLDER,INFLATABLE POLITICAL GLOBE ,JOY LARGE WOOD LETTERS,PACK OF 20 SKULL PAPER NAPKINS,PACK OF 6 SKULL PAPER CUPS,PARTY CONE CHRISTMAS DECORATION ,PEACE SMALL WOOD LETTERS,PINK BLUE FELT CRAFT TRINKET BOX,RETRO COFFEE MUGS ASSORTED,SCOTTIE DOG HOT WATER BOTTLE,STRIPES DESIGN MONKEY DOLL,VINTAGE SNAKES & LADDERS,WOODEN BOX ADVENT CALENDAR \n",
       "5 CARROT CHARLIE+LOLA COASTER SET,CHARLIE & LOLA WASTEPAPER BIN BLUE,CHARLIE & LOLA WASTEPAPER BIN FLORA,CHARLIE + LOLA BISCUITS TINS,CHARLIE + LOLA RED HOT WATER BOTTLE,CHARLIE AND LOLA CHARLOTTE BAG,CHARLIE AND LOLA FIGURES TINS,CHARLIE LOLA BLUE HOT WATER BOTTLE ,CHARLIE+LOLA PINK HOT WATER BOTTLE,CHARLIE+LOLA RED HOT WATER BOTTLE ,COUNTRY COTTAGE  DOORSTOP GREEN,DINOSAURS  WRITING SET ,GINGHAM HEART  DOORSTOP RED,JUMBO BAG CHARLIE AND LOLA TOYS,JUMBO BAG TOYS ,SET OF MEADOW  FLOWER STICKERS,TOMATO CHARLIE+LOLA COASTER SET                                                                                               \n",
       "6  VINTAGE DESIGN GIFT TAGS,ASSORTED CAKES FRIDGE MAGNETS,ASSORTED COLOUR MINI CASES,BAKING SET 9 PIECE RETROSPOT ,BLACK/BLUE DOTS RUFFLED UMBRELLA,CHRISTMAS PUDDING TRINKET POT ,LUNCHBOX WITH CUTLERY RETROSPOT ,PACK 20 DOLLY PEGS,PARTY CONE CHRISTMAS DECORATION ,PINK DOUGHNUT TRINKET POT ,RED TOADSTOOL LED NIGHT LIGHT,RED/WHITE DOTS RUFFLED UMBRELLA,RETRO SPORT PARTY BAG + STICKER SET,RETRO SPOT TEA SET CERAMIC 11 PC ,SET OF THREE VINTAGE GIFT WRAPS,SET/3 RUSSIAN DOLL STACKING TINS,WRAP BLUE RUSSIAN FOLKART,WRAP ENGLISH ROSE                                                                                               "
      ]
     },
     "metadata": {},
     "output_type": "display_data"
    }
   ],
   "source": [
    "head(dataset)"
   ]
  },
  {
   "cell_type": "markdown",
   "metadata": {},
   "source": [
    "lets save the dataset to the workspace as \"retail_apriori.csv\" file using write.table() function"
   ]
  },
  {
   "cell_type": "code",
   "execution_count": 16,
   "metadata": {},
   "outputs": [],
   "source": [
    "write.table(dataset,\"retail_apriori.csv\", sep =\",\", col.names = FALSE, row.names =FALSE)"
   ]
  },
  {
   "cell_type": "markdown",
   "metadata": {},
   "source": [
    "Now, we have a table to be used in apriori() function tho find out the association rules. LEt's begin with reading transaction in apriori()"
   ]
  },
  {
   "cell_type": "code",
   "execution_count": 19,
   "metadata": {},
   "outputs": [
    {
     "name": "stderr",
     "output_type": "stream",
     "text": [
      "Warning message in scan(text = l, what = \"character\", sep = sep, quote = quote, :\n",
      "\"EOF within quoted string\"Warning message in scan(text = l, what = \"character\", sep = sep, quote = quote, :\n",
      "\"EOF within quoted string\"Warning message in scan(text = l, what = \"character\", sep = sep, quote = quote, :\n",
      "\"EOF within quoted string\"Warning message in scan(text = l, what = \"character\", sep = sep, quote = quote, :\n",
      "\"EOF within quoted string\"Warning message in scan(text = l, what = \"character\", sep = sep, quote = quote, :\n",
      "\"EOF within quoted string\"Warning message in scan(text = l, what = \"character\", sep = sep, quote = quote, :\n",
      "\"EOF within quoted string\"Warning message in scan(text = l, what = \"character\", sep = sep, quote = quote, :\n",
      "\"EOF within quoted string\"Warning message in scan(text = l, what = \"character\", sep = sep, quote = quote, :\n",
      "\"EOF within quoted string\"Warning message in scan(text = l, what = \"character\", sep = sep, quote = quote, :\n",
      "\"EOF within quoted string\"Warning message in scan(text = l, what = \"character\", sep = sep, quote = quote, :\n",
      "\"EOF within quoted string\"Warning message in scan(text = l, what = \"character\", sep = sep, quote = quote, :\n",
      "\"EOF within quoted string\"Warning message in scan(text = l, what = \"character\", sep = sep, quote = quote, :\n",
      "\"EOF within quoted string\"Warning message in scan(text = l, what = \"character\", sep = sep, quote = quote, :\n",
      "\"EOF within quoted string\"Warning message in scan(text = l, what = \"character\", sep = sep, quote = quote, :\n",
      "\"EOF within quoted string\"Warning message in scan(text = l, what = \"character\", sep = sep, quote = quote, :\n",
      "\"EOF within quoted string\"Warning message in scan(text = l, what = \"character\", sep = sep, quote = quote, :\n",
      "\"EOF within quoted string\"Warning message in scan(text = l, what = \"character\", sep = sep, quote = quote, :\n",
      "\"EOF within quoted string\"Warning message in scan(text = l, what = \"character\", sep = sep, quote = quote, :\n",
      "\"EOF within quoted string\"Warning message in scan(text = l, what = \"character\", sep = sep, quote = quote, :\n",
      "\"EOF within quoted string\"Warning message in scan(text = l, what = \"character\", sep = sep, quote = quote, :\n",
      "\"EOF within quoted string\"Warning message in scan(text = l, what = \"character\", sep = sep, quote = quote, :\n",
      "\"EOF within quoted string\"Warning message in scan(text = l, what = \"character\", sep = sep, quote = quote, :\n",
      "\"EOF within quoted string\"Warning message in scan(text = l, what = \"character\", sep = sep, quote = quote, :\n",
      "\"EOF within quoted string\"Warning message in scan(text = l, what = \"character\", sep = sep, quote = quote, :\n",
      "\"EOF within quoted string\"Warning message in scan(text = l, what = \"character\", sep = sep, quote = quote, :\n",
      "\"EOF within quoted string\"Warning message in scan(text = l, what = \"character\", sep = sep, quote = quote, :\n",
      "\"EOF within quoted string\"Warning message in scan(text = l, what = \"character\", sep = sep, quote = quote, :\n",
      "\"EOF within quoted string\"Warning message in scan(text = l, what = \"character\", sep = sep, quote = quote, :\n",
      "\"EOF within quoted string\"Warning message in scan(text = l, what = \"character\", sep = sep, quote = quote, :\n",
      "\"EOF within quoted string\"Warning message in scan(text = l, what = \"character\", sep = sep, quote = quote, :\n",
      "\"EOF within quoted string\"Warning message in scan(text = l, what = \"character\", sep = sep, quote = quote, :\n",
      "\"EOF within quoted string\"Warning message in scan(text = l, what = \"character\", sep = sep, quote = quote, :\n",
      "\"EOF within quoted string\"Warning message in scan(text = l, what = \"character\", sep = sep, quote = quote, :\n",
      "\"EOF within quoted string\"Warning message in scan(text = l, what = \"character\", sep = sep, quote = quote, :\n",
      "\"EOF within quoted string\"Warning message in scan(text = l, what = \"character\", sep = sep, quote = quote, :\n",
      "\"EOF within quoted string\"Warning message in scan(text = l, what = \"character\", sep = sep, quote = quote, :\n",
      "\"EOF within quoted string\"Warning message in scan(text = l, what = \"character\", sep = sep, quote = quote, :\n",
      "\"EOF within quoted string\"Warning message in scan(text = l, what = \"character\", sep = sep, quote = quote, :\n",
      "\"EOF within quoted string\"Warning message in scan(text = l, what = \"character\", sep = sep, quote = quote, :\n",
      "\"EOF within quoted string\"Warning message in scan(text = l, what = \"character\", sep = sep, quote = quote, :\n",
      "\"EOF within quoted string\"Warning message in scan(text = l, what = \"character\", sep = sep, quote = quote, :\n",
      "\"EOF within quoted string\"Warning message in scan(text = l, what = \"character\", sep = sep, quote = quote, :\n",
      "\"EOF within quoted string\"Warning message in scan(text = l, what = \"character\", sep = sep, quote = quote, :\n",
      "\"EOF within quoted string\"Warning message in scan(text = l, what = \"character\", sep = sep, quote = quote, :\n",
      "\"EOF within quoted string\"Warning message in scan(text = l, what = \"character\", sep = sep, quote = quote, :\n",
      "\"EOF within quoted string\"Warning message in scan(text = l, what = \"character\", sep = sep, quote = quote, :\n",
      "\"EOF within quoted string\"Warning message in scan(text = l, what = \"character\", sep = sep, quote = quote, :\n",
      "\"EOF within quoted string\"Warning message in scan(text = l, what = \"character\", sep = sep, quote = quote, :\n",
      "\"EOF within quoted string\"Warning message in scan(text = l, what = \"character\", sep = sep, quote = quote, :\n",
      "\"EOF within quoted string\"Warning message in scan(text = l, what = \"character\", sep = sep, quote = quote, :\n",
      "\"EOF within quoted string\"Warning message in scan(text = l, what = \"character\", sep = sep, quote = quote, :\n",
      "\"EOF within quoted string\"Warning message in scan(text = l, what = \"character\", sep = sep, quote = quote, :\n",
      "\"EOF within quoted string\"Warning message in scan(text = l, what = \"character\", sep = sep, quote = quote, :\n",
      "\"EOF within quoted string\"Warning message in scan(text = l, what = \"character\", sep = sep, quote = quote, :\n",
      "\"EOF within quoted string\"Warning message in scan(text = l, what = \"character\", sep = sep, quote = quote, :\n",
      "\"EOF within quoted string\"Warning message in scan(text = l, what = \"character\", sep = sep, quote = quote, :\n",
      "\"EOF within quoted string\"Warning message in scan(text = l, what = \"character\", sep = sep, quote = quote, :\n",
      "\"EOF within quoted string\"Warning message in scan(text = l, what = \"character\", sep = sep, quote = quote, :\n",
      "\"EOF within quoted string\"Warning message in scan(text = l, what = \"character\", sep = sep, quote = quote, :\n",
      "\"EOF within quoted string\"Warning message in scan(text = l, what = \"character\", sep = sep, quote = quote, :\n",
      "\"EOF within quoted string\"Warning message in scan(text = l, what = \"character\", sep = sep, quote = quote, :\n",
      "\"EOF within quoted string\"Warning message in scan(text = l, what = \"character\", sep = sep, quote = quote, :\n",
      "\"EOF within quoted string\"Warning message in scan(text = l, what = \"character\", sep = sep, quote = quote, :\n",
      "\"EOF within quoted string\"Warning message in scan(text = l, what = \"character\", sep = sep, quote = quote, :\n",
      "\"EOF within quoted string\"Warning message in scan(text = l, what = \"character\", sep = sep, quote = quote, :\n",
      "\"EOF within quoted string\"Warning message in scan(text = l, what = \"character\", sep = sep, quote = quote, :\n",
      "\"EOF within quoted string\"Warning message in scan(text = l, what = \"character\", sep = sep, quote = quote, :\n",
      "\"EOF within quoted string\"Warning message in scan(text = l, what = \"character\", sep = sep, quote = quote, :\n",
      "\"EOF within quoted string\"Warning message in scan(text = l, what = \"character\", sep = sep, quote = quote, :\n",
      "\"EOF within quoted string\"Warning message in scan(text = l, what = \"character\", sep = sep, quote = quote, :\n",
      "\"EOF within quoted string\"Warning message in scan(text = l, what = \"character\", sep = sep, quote = quote, :\n",
      "\"EOF within quoted string\"Warning message in scan(text = l, what = \"character\", sep = sep, quote = quote, :\n",
      "\"EOF within quoted string\"Warning message in scan(text = l, what = \"character\", sep = sep, quote = quote, :\n",
      "\"EOF within quoted string\"Warning message in scan(text = l, what = \"character\", sep = sep, quote = quote, :\n",
      "\"EOF within quoted string\"Warning message in scan(text = l, what = \"character\", sep = sep, quote = quote, :\n",
      "\"EOF within quoted string\"Warning message in scan(text = l, what = \"character\", sep = sep, quote = quote, :\n",
      "\"EOF within quoted string\"Warning message in scan(text = l, what = \"character\", sep = sep, quote = quote, :\n",
      "\"EOF within quoted string\"Warning message in scan(text = l, what = \"character\", sep = sep, quote = quote, :\n",
      "\"EOF within quoted string\"Warning message in scan(text = l, what = \"character\", sep = sep, quote = quote, :\n",
      "\"EOF within quoted string\"Warning message in scan(text = l, what = \"character\", sep = sep, quote = quote, :\n",
      "\"EOF within quoted string\"Warning message in scan(text = l, what = \"character\", sep = sep, quote = quote, :\n",
      "\"EOF within quoted string\"Warning message in scan(text = l, what = \"character\", sep = sep, quote = quote, :\n",
      "\"EOF within quoted string\"Warning message in scan(text = l, what = \"character\", sep = sep, quote = quote, :\n",
      "\"EOF within quoted string\"Warning message in scan(text = l, what = \"character\", sep = sep, quote = quote, :\n",
      "\"EOF within quoted string\"Warning message in scan(text = l, what = \"character\", sep = sep, quote = quote, :\n",
      "\"EOF within quoted string\"Warning message in scan(text = l, what = \"character\", sep = sep, quote = quote, :\n",
      "\"EOF within quoted string\"Warning message in scan(text = l, what = \"character\", sep = sep, quote = quote, :\n",
      "\"EOF within quoted string\"Warning message in scan(text = l, what = \"character\", sep = sep, quote = quote, :\n",
      "\"EOF within quoted string\"Warning message in scan(text = l, what = \"character\", sep = sep, quote = quote, :\n",
      "\"EOF within quoted string\"Warning message in scan(text = l, what = \"character\", sep = sep, quote = quote, :\n",
      "\"EOF within quoted string\"Warning message in scan(text = l, what = \"character\", sep = sep, quote = quote, :\n",
      "\"EOF within quoted string\"Warning message in scan(text = l, what = \"character\", sep = sep, quote = quote, :\n",
      "\"EOF within quoted string\"Warning message in scan(text = l, what = \"character\", sep = sep, quote = quote, :\n",
      "\"EOF within quoted string\"Warning message in scan(text = l, what = \"character\", sep = sep, quote = quote, :\n",
      "\"EOF within quoted string\"Warning message in scan(text = l, what = \"character\", sep = sep, quote = quote, :\n",
      "\"EOF within quoted string\"Warning message in scan(text = l, what = \"character\", sep = sep, quote = quote, :\n",
      "\"EOF within quoted string\"Warning message in scan(text = l, what = \"character\", sep = sep, quote = quote, :\n",
      "\"EOF within quoted string\"Warning message in scan(text = l, what = \"character\", sep = sep, quote = quote, :\n",
      "\"EOF within quoted string\"Warning message in scan(text = l, what = \"character\", sep = sep, quote = quote, :\n",
      "\"EOF within quoted string\"Warning message in scan(text = l, what = \"character\", sep = sep, quote = quote, :\n",
      "\"EOF within quoted string\"Warning message in scan(text = l, what = \"character\", sep = sep, quote = quote, :\n",
      "\"EOF within quoted string\"Warning message in scan(text = l, what = \"character\", sep = sep, quote = quote, :\n",
      "\"EOF within quoted string\"Warning message in scan(text = l, what = \"character\", sep = sep, quote = quote, :\n",
      "\"EOF within quoted string\"Warning message in scan(text = l, what = \"character\", sep = sep, quote = quote, :\n",
      "\"EOF within quoted string\"Warning message in scan(text = l, what = \"character\", sep = sep, quote = quote, :\n",
      "\"EOF within quoted string\"Warning message in scan(text = l, what = \"character\", sep = sep, quote = quote, :\n",
      "\"EOF within quoted string\"Warning message in scan(text = l, what = \"character\", sep = sep, quote = quote, :\n",
      "\"EOF within quoted string\"Warning message in scan(text = l, what = \"character\", sep = sep, quote = quote, :\n",
      "\"EOF within quoted string\"Warning message in scan(text = l, what = \"character\", sep = sep, quote = quote, :\n",
      "\"EOF within quoted string\"Warning message in scan(text = l, what = \"character\", sep = sep, quote = quote, :\n",
      "\"EOF within quoted string\"Warning message in scan(text = l, what = \"character\", sep = sep, quote = quote, :\n",
      "\"EOF within quoted string\"Warning message in scan(text = l, what = \"character\", sep = sep, quote = quote, :\n",
      "\"EOF within quoted string\"Warning message in scan(text = l, what = \"character\", sep = sep, quote = quote, :\n",
      "\"EOF within quoted string\"Warning message in scan(text = l, what = \"character\", sep = sep, quote = quote, :\n",
      "\"EOF within quoted string\"Warning message in scan(text = l, what = \"character\", sep = sep, quote = quote, :\n",
      "\"EOF within quoted string\"Warning message in scan(text = l, what = \"character\", sep = sep, quote = quote, :\n",
      "\"EOF within quoted string\"Warning message in scan(text = l, what = \"character\", sep = sep, quote = quote, :\n",
      "\"EOF within quoted string\"Warning message in scan(text = l, what = \"character\", sep = sep, quote = quote, :\n",
      "\"EOF within quoted string\"Warning message in scan(text = l, what = \"character\", sep = sep, quote = quote, :\n",
      "\"EOF within quoted string\"Warning message in scan(text = l, what = \"character\", sep = sep, quote = quote, :\n",
      "\"EOF within quoted string\"Warning message in scan(text = l, what = \"character\", sep = sep, quote = quote, :\n",
      "\"EOF within quoted string\"Warning message in scan(text = l, what = \"character\", sep = sep, quote = quote, :\n",
      "\"EOF within quoted string\"Warning message in scan(text = l, what = \"character\", sep = sep, quote = quote, :\n",
      "\"EOF within quoted string\"Warning message in scan(text = l, what = \"character\", sep = sep, quote = quote, :\n",
      "\"EOF within quoted string\"Warning message in scan(text = l, what = \"character\", sep = sep, quote = quote, :\n",
      "\"EOF within quoted string\"Warning message in scan(text = l, what = \"character\", sep = sep, quote = quote, :\n",
      "\"EOF within quoted string\"Warning message in scan(text = l, what = \"character\", sep = sep, quote = quote, :\n",
      "\"EOF within quoted string\"Warning message in scan(text = l, what = \"character\", sep = sep, quote = quote, :\n",
      "\"EOF within quoted string\"Warning message in scan(text = l, what = \"character\", sep = sep, quote = quote, :\n",
      "\"EOF within quoted string\"Warning message in scan(text = l, what = \"character\", sep = sep, quote = quote, :\n",
      "\"EOF within quoted string\"Warning message in scan(text = l, what = \"character\", sep = sep, quote = quote, :\n",
      "\"EOF within quoted string\"Warning message in scan(text = l, what = \"character\", sep = sep, quote = quote, :\n",
      "\"EOF within quoted string\"Warning message in scan(text = l, what = \"character\", sep = sep, quote = quote, :\n",
      "\"EOF within quoted string\"Warning message in scan(text = l, what = \"character\", sep = sep, quote = quote, :\n",
      "\"EOF within quoted string\"Warning message in scan(text = l, what = \"character\", sep = sep, quote = quote, :\n",
      "\"EOF within quoted string\"Warning message in scan(text = l, what = \"character\", sep = sep, quote = quote, :\n",
      "\"EOF within quoted string\"Warning message in scan(text = l, what = \"character\", sep = sep, quote = quote, :\n",
      "\"EOF within quoted string\"Warning message in scan(text = l, what = \"character\", sep = sep, quote = quote, :\n",
      "\"EOF within quoted string\"Warning message in scan(text = l, what = \"character\", sep = sep, quote = quote, :\n",
      "\"EOF within quoted string\"Warning message in scan(text = l, what = \"character\", sep = sep, quote = quote, :\n",
      "\"EOF within quoted string\"Warning message in scan(text = l, what = \"character\", sep = sep, quote = quote, :\n",
      "\"EOF within quoted string\"Warning message in scan(text = l, what = \"character\", sep = sep, quote = quote, :\n",
      "\"EOF within quoted string\"Warning message in scan(text = l, what = \"character\", sep = sep, quote = quote, :\n",
      "\"EOF within quoted string\"Warning message in scan(text = l, what = \"character\", sep = sep, quote = quote, :\n",
      "\"EOF within quoted string\"Warning message in scan(text = l, what = \"character\", sep = sep, quote = quote, :\n",
      "\"EOF within quoted string\"Warning message in scan(text = l, what = \"character\", sep = sep, quote = quote, :\n",
      "\"EOF within quoted string\"Warning message in scan(text = l, what = \"character\", sep = sep, quote = quote, :\n",
      "\"EOF within quoted string\"Warning message in scan(text = l, what = \"character\", sep = sep, quote = quote, :\n",
      "\"EOF within quoted string\"Warning message in scan(text = l, what = \"character\", sep = sep, quote = quote, :\n",
      "\"EOF within quoted string\"Warning message in scan(text = l, what = \"character\", sep = sep, quote = quote, :\n",
      "\"EOF within quoted string\"Warning message in scan(text = l, what = \"character\", sep = sep, quote = quote, :\n",
      "\"EOF within quoted string\"Warning message in scan(text = l, what = \"character\", sep = sep, quote = quote, :\n",
      "\"EOF within quoted string\"Warning message in scan(text = l, what = \"character\", sep = sep, quote = quote, :\n",
      "\"EOF within quoted string\"Warning message in scan(text = l, what = \"character\", sep = sep, quote = quote, :\n",
      "\"EOF within quoted string\"Warning message in scan(text = l, what = \"character\", sep = sep, quote = quote, :\n",
      "\"EOF within quoted string\"Warning message in scan(text = l, what = \"character\", sep = sep, quote = quote, :\n",
      "\"EOF within quoted string\"Warning message in scan(text = l, what = \"character\", sep = sep, quote = quote, :\n",
      "\"EOF within quoted string\"Warning message in scan(text = l, what = \"character\", sep = sep, quote = quote, :\n",
      "\"EOF within quoted string\"Warning message in scan(text = l, what = \"character\", sep = sep, quote = quote, :\n",
      "\"EOF within quoted string\"Warning message in scan(text = l, what = \"character\", sep = sep, quote = quote, :\n",
      "\"EOF within quoted string\"Warning message in asMethod(object):\n",
      "\"removing duplicated items in transactions\""
     ]
    },
    {
     "data": {
      "text/plain": [
       "transactions as itemMatrix in sparse format with\n",
       " 18966 rows (elements/itemsets/transactions) and\n",
       " 18424 columns (items) and a density of 5.891602e-05 \n",
       "\n",
       "most frequent items:\n",
       "WHITE HANGING HEART T-LIGHT HOLDER           REGENCY CAKESTAND 3 TIER \n",
       "                                57                                 41 \n",
       "              SMALL POPCORN HOLDER     STRAWBERRY CERAMIC TRINKET BOX \n",
       "                                29                                 25 \n",
       "      REX CASH+CARRY JUMBO SHOPPER                            (Other) \n",
       "                                22                              20413 \n",
       "\n",
       "element (itemset/transaction) length distribution:\n",
       "sizes\n",
       "    1     2     3     4     5     6     7     8     9    10    11    12    13 \n",
       "18803    27    14    17    11     7    12     4     6     7     7     2     5 \n",
       "   14    15    16    17    19    20    21    22    23    24    25    26    27 \n",
       "    3     2     4     3     2     3     6     1     6     1     1     2     1 \n",
       "   29    30    33    39    42    46    79    91 \n",
       "    2     1     1     1     1     1     1     1 \n",
       "\n",
       "   Min. 1st Qu.  Median    Mean 3rd Qu.    Max. \n",
       "  1.000   1.000   1.000   1.085   1.000  91.000 \n",
       "\n",
       "includes extended item information - examples:\n",
       "                                                                                                                                                                                                                                                                                                                                                                                                                                                                                                                                                                                                                                                                                                                                                                                                                                                                                                                                                                                                                                                                                                                                                                                                                                                                                                                                                                                                                                                                                                                                                                                                                                                                                                                                                                                                                                                                                                                                                                                                                                                                                                                                                                                                                                                                                                                                                          labels\n",
       "1                                                                                                                                                                                                                                                                                                                                                                                                                                                                                                                                                                                                                                                                                                                                                                                                                                                                                                                                                                                                                                                                                                                                                                                                                                                                                                                                                                                                                                                                                                                                                                                                                                                                                                                                                                                                                                                                                                                                                                                                                                                                                                                                                                                                                                                                                                                                                       1 HANGER\n",
       "2                                                                                                                                                                                                                                                                                                                                                                                                                                                                                                                                                                                                                                                                                                                                                                                                                                                                                                                                                                                                                                                                                                                                                                                                                                                                                                                                                                                                                                                                                                                                                                                                                                                                                                                                                                                                                                                                                                                                                                                                                                                                                                                                                                                                                                                                                                                                         10 COLOUR SPACEBOY PEN\n",
       "3 10 COLOUR SPACEBOY PEN,10 COLOUR SPACEBOY PEN,12 COLOURED PARTY BALLOONS,3D SHEET OF CAT STICKERS,3D SHEET OF DOG STICKERS,AFGHAN SLIPPER SOCK PAIR,ASSORTED TUTTI FRUTTI MIRROR,BAKING SET 9 PIECE RETROSPOT ,BALLOON PUMP WITH 10 BALLOONS,BALLOON WATER BOMB PACK OF 35,BOTANICAL ROSE GIFT WRAP,BUTTERFLIES STICKERS,CAMOUFLAGE LED TORCH,CHICK GREY HOT WATER BOTTLE,CHILDS BREAKFAST SET CIRCUS PARADE,CHILDS BREAKFAST SET DOLLY GIRL ,CHILDS BREAKFAST SET SPACEBOY ,CIRCUS PARADE LUNCH BOX ,DINOSAURS  WRITING SET ,ENAMEL MEASURING JUG CREAM,FAIRY SOAP SOAP HOLDER,FELTCRAFT CUSHION OWL,FLOWER FAIRY,5 SUMMER B'DRAW LINERS,GLASS JAR DIGESTIVE BISCUITS,GLASS JAR ENGLISH CONFECTIONERY,GLASS JAR KINGS CHOICE,GREEN WIRE STANDING CANDLE HOLDER,GROW A FLYTRAP OR SUNFLOWER IN TIN,HEADS AND TAILS SPORTING FUN,LUNCH BOX I LOVE LONDON,LUSH GREENS RIBBONS,MULTICOLOUR 3D BALLS GARLAND,PACK OF 20 SPACEBOY NAPKINS,PACK OF 60 DINOSAUR CAKE CASES,PARTY INVITES FOOTBALL,PHARMACIE FIRST AID TIN,PINK  HONEYCOMB PAPER FAN,PLASTERS IN TIN CIRCUS PARADE ,PLASTERS IN TIN SPACEBOY,PLASTERS IN TIN VINTAGE PAISLEY ,PLASTERS IN TIN WOODLAND ANIMALS,RED RETROSPOT SMALL MILK JUG,RETRO BLUE SPOTTY WASHING UP GLOVES,RETRO PLASTIC DAISY TRAY,RETRO PLASTIC ELEPHANT TRAY,RETRO PLASTIC POLKA TRAY,ROUND SNACK BOXES SET OF 4 FRUITS ,SANDALWOOD FAN,SANDALWOOD FAN,SET 12 RETRO WHITE CHALK STICKS,SET 20 NAPKINS FAIRY CAKES DESIGN ,SET 6 FOOTBALL CELEBRATION CANDLES,SET 6 FOOTBALL CELEBRATION CANDLES,SET OF 6 GIRLS CELEBRATION CANDLES,SET OF 6 GIRLS CELEBRATION CANDLES,SET OF 6 KASHMIR FOLKART BAUBLES,SET OF 72 PINK HEART PAPER DOILIES,SET OF 9 HEART SHAPED BALLOONS,SET/10 PINK SPOTTY PARTY CANDLES,SET/10 RED SPOTTY PARTY CANDLES,SET/20 FRUIT SALAD PAPER NAPKINS ,SET/20 STRAWBERRY PAPER NAPKINS ,SET/20 WOODLAND PAPER NAPKINS ,SET/4 BADGES BALLOON GIRL,SET/6 COLLAGE PAPER CUPS,SET/6 COLLAGE PAPER PLATES,SET/6 FRUIT SALAD  PAPER PLATES,SET/6 FRUIT SALAD PAPER CUPS,SILK PURSE BABUSHKA RED,SPACEBOY GIFT WRAP,SPACEBOY LUNCH BOX ,SPACEBOY TV DINNER TRAY,STRIPY DESIGN SHOWER CAP,TROPICAL  HONEYCOMB PAPER GARLAND ,TROPICAL  HONEYCOMB PAPER GARLAND ,TV DINNER TRAY DOLLY GIRL,WOODEN SKITTLES GARDEN SET,WOODLAND  HEIGHT CHART STICKERS ,WORLD WAR 2 GLIDERS ASSTD DESIGNS,WRAP BLUE RUSSIAN FOLKART"
      ]
     },
     "metadata": {},
     "output_type": "display_data"
    }
   ],
   "source": [
    "products <- read.transactions(\"retail_apriori.csv\", sep =\",\")"
   ]
  },
  {
   "cell_type": "code",
   "execution_count": 20,
   "metadata": {
    "scrolled": true
   },
   "outputs": [
    {
     "data": {
      "text/plain": [
       "transactions as itemMatrix in sparse format with\n",
       " 18966 rows (elements/itemsets/transactions) and\n",
       " 18424 columns (items) and a density of 5.891602e-05 \n",
       "\n",
       "most frequent items:\n",
       "WHITE HANGING HEART T-LIGHT HOLDER           REGENCY CAKESTAND 3 TIER \n",
       "                                57                                 41 \n",
       "              SMALL POPCORN HOLDER     STRAWBERRY CERAMIC TRINKET BOX \n",
       "                                29                                 25 \n",
       "      REX CASH+CARRY JUMBO SHOPPER                            (Other) \n",
       "                                22                              20413 \n",
       "\n",
       "element (itemset/transaction) length distribution:\n",
       "sizes\n",
       "    1     2     3     4     5     6     7     8     9    10    11    12    13 \n",
       "18803    27    14    17    11     7    12     4     6     7     7     2     5 \n",
       "   14    15    16    17    19    20    21    22    23    24    25    26    27 \n",
       "    3     2     4     3     2     3     6     1     6     1     1     2     1 \n",
       "   29    30    33    39    42    46    79    91 \n",
       "    2     1     1     1     1     1     1     1 \n",
       "\n",
       "   Min. 1st Qu.  Median    Mean 3rd Qu.    Max. \n",
       "  1.000   1.000   1.000   1.085   1.000  91.000 \n",
       "\n",
       "includes extended item information - examples:\n",
       "                                                                                                                                                                                                                                                                                                                                                                                                                                                                                                                                                                                                                                                                                                                                                                                                                                                                                                                                                                                                                                                                                                                                                                                                                                                                                                                                                                                                                                                                                                                                                                                                                                                                                                                                                                                                                                                                                                                                                                                                                                                                                                                                                                                                                                                                                                                                                          labels\n",
       "1                                                                                                                                                                                                                                                                                                                                                                                                                                                                                                                                                                                                                                                                                                                                                                                                                                                                                                                                                                                                                                                                                                                                                                                                                                                                                                                                                                                                                                                                                                                                                                                                                                                                                                                                                                                                                                                                                                                                                                                                                                                                                                                                                                                                                                                                                                                                                       1 HANGER\n",
       "2                                                                                                                                                                                                                                                                                                                                                                                                                                                                                                                                                                                                                                                                                                                                                                                                                                                                                                                                                                                                                                                                                                                                                                                                                                                                                                                                                                                                                                                                                                                                                                                                                                                                                                                                                                                                                                                                                                                                                                                                                                                                                                                                                                                                                                                                                                                                         10 COLOUR SPACEBOY PEN\n",
       "3 10 COLOUR SPACEBOY PEN,10 COLOUR SPACEBOY PEN,12 COLOURED PARTY BALLOONS,3D SHEET OF CAT STICKERS,3D SHEET OF DOG STICKERS,AFGHAN SLIPPER SOCK PAIR,ASSORTED TUTTI FRUTTI MIRROR,BAKING SET 9 PIECE RETROSPOT ,BALLOON PUMP WITH 10 BALLOONS,BALLOON WATER BOMB PACK OF 35,BOTANICAL ROSE GIFT WRAP,BUTTERFLIES STICKERS,CAMOUFLAGE LED TORCH,CHICK GREY HOT WATER BOTTLE,CHILDS BREAKFAST SET CIRCUS PARADE,CHILDS BREAKFAST SET DOLLY GIRL ,CHILDS BREAKFAST SET SPACEBOY ,CIRCUS PARADE LUNCH BOX ,DINOSAURS  WRITING SET ,ENAMEL MEASURING JUG CREAM,FAIRY SOAP SOAP HOLDER,FELTCRAFT CUSHION OWL,FLOWER FAIRY,5 SUMMER B'DRAW LINERS,GLASS JAR DIGESTIVE BISCUITS,GLASS JAR ENGLISH CONFECTIONERY,GLASS JAR KINGS CHOICE,GREEN WIRE STANDING CANDLE HOLDER,GROW A FLYTRAP OR SUNFLOWER IN TIN,HEADS AND TAILS SPORTING FUN,LUNCH BOX I LOVE LONDON,LUSH GREENS RIBBONS,MULTICOLOUR 3D BALLS GARLAND,PACK OF 20 SPACEBOY NAPKINS,PACK OF 60 DINOSAUR CAKE CASES,PARTY INVITES FOOTBALL,PHARMACIE FIRST AID TIN,PINK  HONEYCOMB PAPER FAN,PLASTERS IN TIN CIRCUS PARADE ,PLASTERS IN TIN SPACEBOY,PLASTERS IN TIN VINTAGE PAISLEY ,PLASTERS IN TIN WOODLAND ANIMALS,RED RETROSPOT SMALL MILK JUG,RETRO BLUE SPOTTY WASHING UP GLOVES,RETRO PLASTIC DAISY TRAY,RETRO PLASTIC ELEPHANT TRAY,RETRO PLASTIC POLKA TRAY,ROUND SNACK BOXES SET OF 4 FRUITS ,SANDALWOOD FAN,SANDALWOOD FAN,SET 12 RETRO WHITE CHALK STICKS,SET 20 NAPKINS FAIRY CAKES DESIGN ,SET 6 FOOTBALL CELEBRATION CANDLES,SET 6 FOOTBALL CELEBRATION CANDLES,SET OF 6 GIRLS CELEBRATION CANDLES,SET OF 6 GIRLS CELEBRATION CANDLES,SET OF 6 KASHMIR FOLKART BAUBLES,SET OF 72 PINK HEART PAPER DOILIES,SET OF 9 HEART SHAPED BALLOONS,SET/10 PINK SPOTTY PARTY CANDLES,SET/10 RED SPOTTY PARTY CANDLES,SET/20 FRUIT SALAD PAPER NAPKINS ,SET/20 STRAWBERRY PAPER NAPKINS ,SET/20 WOODLAND PAPER NAPKINS ,SET/4 BADGES BALLOON GIRL,SET/6 COLLAGE PAPER CUPS,SET/6 COLLAGE PAPER PLATES,SET/6 FRUIT SALAD  PAPER PLATES,SET/6 FRUIT SALAD PAPER CUPS,SILK PURSE BABUSHKA RED,SPACEBOY GIFT WRAP,SPACEBOY LUNCH BOX ,SPACEBOY TV DINNER TRAY,STRIPY DESIGN SHOWER CAP,TROPICAL  HONEYCOMB PAPER GARLAND ,TROPICAL  HONEYCOMB PAPER GARLAND ,TV DINNER TRAY DOLLY GIRL,WOODEN SKITTLES GARDEN SET,WOODLAND  HEIGHT CHART STICKERS ,WORLD WAR 2 GLIDERS ASSTD DESIGNS,WRAP BLUE RUSSIAN FOLKART"
      ]
     },
     "metadata": {},
     "output_type": "display_data"
    }
   ],
   "source": [
    "summary(products)"
   ]
  },
  {
   "attachments": {},
   "cell_type": "markdown",
   "metadata": {},
   "source": [
    "We have found out the most frequent items and number of k-item frequent itemsets!"
   ]
  },
  {
   "cell_type": "markdown",
   "metadata": {},
   "source": [
    "To show some transaction inspect() function is used. to get the first 3 transactions :"
   ]
  },
  {
   "cell_type": "code",
   "execution_count": 21,
   "metadata": {},
   "outputs": [
    {
     "name": "stdout",
     "output_type": "stream",
     "text": [
      "    items                                                                                                                                                                                                                                                                                                                                                                                                                                                                                                               \n",
      "[1] {SAVE THE PLANET MUG,                                                                                                                                                                                                                                                                                                                                                                                                                                                                                               \n",
      "     STRAWBERRY CERAMIC TRINKET BOX,                                                                                                                                                                                                                                                                                                                                                                                                                                                                                    \n",
      "     WHITE CHERRY LIGHTS,15CM CHRISTMAS GLASS BALL 20 LIGHTS,FANCY FONT HOME SWEET HOME DOORMAT,PINK CHERRY LIGHTS,PINK DOUGHNUT TRINKET POT ,RECORD FRAME 7\\ SINGLE SIZE}                                                                                                                                                                                                                                                                                                                                             \n",
      "[2] {CAT BOWL ,DOG BOWL , CHASING BALL DESIGN,HEART MEASURING SPOONS LARGE,LUNCHBOX WITH CUTLERY FAIRY CAKES}                                                                                                                                                                                                                                                                                                                                                                                                           \n",
      "[3] {PEACE WOODEN BLOCK LETTERS,AREA PATROLLED METAL SIGN,ASSORTED COLOUR BIRD ORNAMENT,BATH BUILDING BLOCK WORD,BISCUITS SMALL BOWL LIGHT BLUE,BLACK DINER WALL CLOCK,CHRISTMAS CRAFT WHITE FAIRY ,CLASSIC WHITE FRAME,DOOR MAT BLACK FLOCK ,FULL ENGLISH BREAKFAST PLATE,HEART FILIGREE DOVE LARGE,HEART IVORY TRELLIS LARGE,HOME BUILDING BLOCK WORD,LOVE BUILDING BLOCK WORD,PIZZA PLATE IN BOX,PLEASE ONE PERSON  METAL SIGN,SCOTTIE DOG HOT WATER BOTTLE,SET OF 3 BLACK FLYING DUCKS,SMALL MARSHMALLOWS PINK BOWL}\n"
     ]
    }
   ],
   "source": [
    "inspect(products[1:3])"
   ]
  },
  {
   "cell_type": "markdown",
   "metadata": {},
   "source": [
    "Now let's get the support levels og the first 3 items"
   ]
  },
  {
   "cell_type": "code",
   "execution_count": 22,
   "metadata": {},
   "outputs": [
    {
     "data": {
      "text/html": [
       "<dl class=dl-horizontal>\n",
       "\t<dt>1 HANGER</dt>\n",
       "\t\t<dd>0.000105451861225351</dd>\n",
       "\t<dt>10 COLOUR SPACEBOY PEN</dt>\n",
       "\t\t<dd>0.000105451861225351</dd>\n",
       "\t<dt><span style=white-space:pre-wrap>10 COLOUR SPACEBOY PEN,10 COLOUR SPACEBOY PEN,12 COLOURED PARTY BALLOONS,3D SHEET OF CAT STICKERS,3D SHEET OF DOG STICKERS,AFGHAN SLIPPER SOCK PAIR,ASSORTED TUTTI FRUTTI MIRROR,BAKING SET 9 PIECE RETROSPOT ,BALLOON PUMP WITH 10 BALLOONS,BALLOON WATER BOMB PACK OF 35,BOTANICAL ROSE GIFT WRAP,BUTTERFLIES STICKERS,CAMOUFLAGE LED TORCH,CHICK GREY HOT WATER BOTTLE,CHILDS BREAKFAST SET CIRCUS PARADE,CHILDS BREAKFAST SET DOLLY GIRL ,CHILDS BREAKFAST SET SPACEBOY ,CIRCUS PARADE LUNCH BOX ,DINOSAURS  WRITING SET ,ENAMEL MEASURING JUG CREAM,FAIRY SOAP SOAP HOLDER,FELTCRAFT CUSHION OWL,FLOWER FAIRY,5 SUMMER B'DRAW LINERS,GLASS JAR DIGESTIVE BISCUITS,GLASS JAR ENGLISH CONFECTIONERY,GLASS JAR KINGS CHOICE,GREEN WIRE STANDING CANDLE HOLDER,GROW A FLYTRAP OR SUNFLOWER IN TIN,HEADS AND TAILS SPORTING FUN,LUNCH BOX I LOVE LONDON,LUSH GREENS RIBBONS,MULTICOLOUR 3D BALLS GARLAND,PACK OF 20 SPACEBOY NAPKINS,PACK OF 60 DINOSAUR CAKE CASES,PARTY INVITES FOOTBALL,PHARMACIE FIRST AID TIN,PINK  HONEYCOMB PAPER FAN,PLASTERS IN TIN CIRCUS PARADE ,PLASTERS IN TIN SPACEBOY,PLASTERS IN TIN VINTAGE PAISLEY ,PLASTERS IN TIN WOODLAND ANIMALS,RED RETROSPOT SMALL MILK JUG,RETRO BLUE SPOTTY WASHING UP GLOVES,RETRO PLASTIC DAISY TRAY,RETRO PLASTIC ELEPHANT TRAY,RETRO PLASTIC POLKA TRAY,ROUND SNACK BOXES SET OF 4 FRUITS ,SANDALWOOD FAN,SANDALWOOD FAN,SET 12 RETRO WHITE CHALK STICKS,SET 20 NAPKINS FAIRY CAKES DESIGN ,SET 6 FOOTBALL CELEBRATION CANDLES,SET 6 FOOTBALL CELEBRATION CANDLES,SET OF 6 GIRLS CELEBRATION CANDLES,SET OF 6 GIRLS CELEBRATION CANDLES,SET OF 6 KASHMIR FOLKART BAUBLES,SET OF 72 PINK HEART PAPER DOILIES,SET OF 9 HEART SHAPED BALLOONS,SET/10 PINK SPOTTY PARTY CANDLES,SET/10 RED SPOTTY PARTY CANDLES,SET/20 FRUIT SALAD PAPER NAPKINS ,SET/20 STRAWBERRY PAPER NAPKINS ,SET/20 WOODLAND PAPER NAPKINS ,SET/4 BADGES BALLOON GIRL,SET/6 COLLAGE PAPER CUPS,SET/6 COLLAGE PAPER PLATES,SET/6 FRUIT SALAD  PAPER PLATES,SET/6 FRUIT SALAD PAPER CUPS,SILK PURSE BABUSHKA RED,SPACEBOY GIFT WRAP,SPACEBOY LUNCH BOX ,SPACEBOY TV DINNER TRAY,STRIPY DESIGN SHOWER CAP,TROPICAL  HONEYCOMB PAPER GARLAND ,TROPICAL  HONEYCOMB PAPER GARLAND ,TV DINNER TRAY DOLLY GIRL,WOODEN SKITTLES GARDEN SET,WOODLAND  HEIGHT CHART STICKERS ,WORLD WAR 2 GLIDERS ASSTD DESIGNS,WRAP BLUE RUSSIAN FOLKART</span></dt>\n",
       "\t\t<dd>5.27259306126753e-05</dd>\n",
       "</dl>\n"
      ],
      "text/latex": [
       "\\begin{description*}\n",
       "\\item[1 HANGER] 0.000105451861225351\n",
       "\\item[10 COLOUR SPACEBOY PEN] 0.000105451861225351\n",
       "\\item[10 COLOUR SPACEBOY PEN,10 COLOUR SPACEBOY PEN,12 COLOURED PARTY BALLOONS,3D SHEET OF CAT STICKERS,3D SHEET OF DOG STICKERS,AFGHAN SLIPPER SOCK PAIR,ASSORTED TUTTI FRUTTI MIRROR,BAKING SET 9 PIECE RETROSPOT ,BALLOON PUMP WITH 10 BALLOONS,BALLOON WATER BOMB PACK OF 35,BOTANICAL ROSE GIFT WRAP,BUTTERFLIES STICKERS,CAMOUFLAGE LED TORCH,CHICK GREY HOT WATER BOTTLE,CHILDS BREAKFAST SET CIRCUS PARADE,CHILDS BREAKFAST SET DOLLY GIRL ,CHILDS BREAKFAST SET SPACEBOY ,CIRCUS PARADE LUNCH BOX ,DINOSAURS  WRITING SET ,ENAMEL MEASURING JUG CREAM,FAIRY SOAP SOAP HOLDER,FELTCRAFT CUSHION OWL,FLOWER FAIRY,5 SUMMER B'DRAW LINERS,GLASS JAR DIGESTIVE BISCUITS,GLASS JAR ENGLISH CONFECTIONERY,GLASS JAR KINGS CHOICE,GREEN WIRE STANDING CANDLE HOLDER,GROW A FLYTRAP OR SUNFLOWER IN TIN,HEADS AND TAILS SPORTING FUN,LUNCH BOX I LOVE LONDON,LUSH GREENS RIBBONS,MULTICOLOUR 3D BALLS GARLAND,PACK OF 20 SPACEBOY NAPKINS,PACK OF 60 DINOSAUR CAKE CASES,PARTY INVITES FOOTBALL,PHARMACIE FIRST AID TIN,PINK  HONEYCOMB PAPER FAN,PLASTERS IN TIN CIRCUS PARADE ,PLASTERS IN TIN SPACEBOY,PLASTERS IN TIN VINTAGE PAISLEY ,PLASTERS IN TIN WOODLAND ANIMALS,RED RETROSPOT SMALL MILK JUG,RETRO BLUE SPOTTY WASHING UP GLOVES,RETRO PLASTIC DAISY TRAY,RETRO PLASTIC ELEPHANT TRAY,RETRO PLASTIC POLKA TRAY,ROUND SNACK BOXES SET OF 4 FRUITS ,SANDALWOOD FAN,SANDALWOOD FAN,SET 12 RETRO WHITE CHALK STICKS,SET 20 NAPKINS FAIRY CAKES DESIGN ,SET 6 FOOTBALL CELEBRATION CANDLES,SET 6 FOOTBALL CELEBRATION CANDLES,SET OF 6 GIRLS CELEBRATION CANDLES,SET OF 6 GIRLS CELEBRATION CANDLES,SET OF 6 KASHMIR FOLKART BAUBLES,SET OF 72 PINK HEART PAPER DOILIES,SET OF 9 HEART SHAPED BALLOONS,SET/10 PINK SPOTTY PARTY CANDLES,SET/10 RED SPOTTY PARTY CANDLES,SET/20 FRUIT SALAD PAPER NAPKINS ,SET/20 STRAWBERRY PAPER NAPKINS ,SET/20 WOODLAND PAPER NAPKINS ,SET/4 BADGES BALLOON GIRL,SET/6 COLLAGE PAPER CUPS,SET/6 COLLAGE PAPER PLATES,SET/6 FRUIT SALAD  PAPER PLATES,SET/6 FRUIT SALAD PAPER CUPS,SILK PURSE BABUSHKA RED,SPACEBOY GIFT WRAP,SPACEBOY LUNCH BOX ,SPACEBOY TV DINNER TRAY,STRIPY DESIGN SHOWER CAP,TROPICAL  HONEYCOMB PAPER GARLAND ,TROPICAL  HONEYCOMB PAPER GARLAND ,TV DINNER TRAY DOLLY GIRL,WOODEN SKITTLES GARDEN SET,WOODLAND  HEIGHT CHART STICKERS ,WORLD WAR 2 GLIDERS ASSTD DESIGNS,WRAP BLUE RUSSIAN FOLKART] 5.27259306126753e-05\n",
       "\\end{description*}\n"
      ],
      "text/markdown": [
       "1 HANGER\n",
       ":   0.00010545186122535110 COLOUR SPACEBOY PEN\n",
       ":   0.000105451861225351<span style=white-space:pre-wrap>10 COLOUR SPACEBOY PEN,10 COLOUR SPACEBOY PEN,12 COLOURED PARTY BALLOONS,3D SHEET OF CAT STICKERS,3D SHEET OF DOG STICKERS,AFGHAN SLIPPER SOCK PAIR,ASSORTED TUTTI FRUTTI MIRROR,BAKING SET 9 PIECE RETROSPOT ,BALLOON PUMP WITH 10 BALLOONS,BALLOON WATER BOMB PACK OF 35,BOTANICAL ROSE GIFT WRAP,BUTTERFLIES STICKERS,CAMOUFLAGE LED TORCH,CHICK GREY HOT WATER BOTTLE,CHILDS BREAKFAST SET CIRCUS PARADE,CHILDS BREAKFAST SET DOLLY GIRL ,CHILDS BREAKFAST SET SPACEBOY ,CIRCUS PARADE LUNCH BOX ,DINOSAURS  WRITING SET ,ENAMEL MEASURING JUG CREAM,FAIRY SOAP SOAP HOLDER,FELTCRAFT CUSHION OWL,FLOWER FAIRY,5 SUMMER B'DRAW LINERS,GLASS JAR DIGESTIVE BISCUITS,GLASS JAR ENGLISH CONFECTIONERY,GLASS JAR KINGS CHOICE,GREEN WIRE STANDING CANDLE HOLDER,GROW A FLYTRAP OR SUNFLOWER IN TIN,HEADS AND TAILS SPORTING FUN,LUNCH BOX I LOVE LONDON,LUSH GREENS RIBBONS,MULTICOLOUR 3D BALLS GARLAND,PACK OF 20 SPACEBOY NAPKINS,PACK OF 60 DINOSAUR CAKE CASES,PARTY INVITES FOOTBALL,PHARMACIE FIRST AID TIN,PINK  HONEYCOMB PAPER FAN,PLASTERS IN TIN CIRCUS PARADE ,PLASTERS IN TIN SPACEBOY,PLASTERS IN TIN VINTAGE PAISLEY ,PLASTERS IN TIN WOODLAND ANIMALS,RED RETROSPOT SMALL MILK JUG,RETRO BLUE SPOTTY WASHING UP GLOVES,RETRO PLASTIC DAISY TRAY,RETRO PLASTIC ELEPHANT TRAY,RETRO PLASTIC POLKA TRAY,ROUND SNACK BOXES SET OF 4 FRUITS ,SANDALWOOD FAN,SANDALWOOD FAN,SET 12 RETRO WHITE CHALK STICKS,SET 20 NAPKINS FAIRY CAKES DESIGN ,SET 6 FOOTBALL CELEBRATION CANDLES,SET 6 FOOTBALL CELEBRATION CANDLES,SET OF 6 GIRLS CELEBRATION CANDLES,SET OF 6 GIRLS CELEBRATION CANDLES,SET OF 6 KASHMIR FOLKART BAUBLES,SET OF 72 PINK HEART PAPER DOILIES,SET OF 9 HEART SHAPED BALLOONS,SET/10 PINK SPOTTY PARTY CANDLES,SET/10 RED SPOTTY PARTY CANDLES,SET/20 FRUIT SALAD PAPER NAPKINS ,SET/20 STRAWBERRY PAPER NAPKINS ,SET/20 WOODLAND PAPER NAPKINS ,SET/4 BADGES BALLOON GIRL,SET/6 COLLAGE PAPER CUPS,SET/6 COLLAGE PAPER PLATES,SET/6 FRUIT SALAD  PAPER PLATES,SET/6 FRUIT SALAD PAPER CUPS,SILK PURSE BABUSHKA RED,SPACEBOY GIFT WRAP,SPACEBOY LUNCH BOX ,SPACEBOY TV DINNER TRAY,STRIPY DESIGN SHOWER CAP,TROPICAL  HONEYCOMB PAPER GARLAND ,TROPICAL  HONEYCOMB PAPER GARLAND ,TV DINNER TRAY DOLLY GIRL,WOODEN SKITTLES GARDEN SET,WOODLAND  HEIGHT CHART STICKERS ,WORLD WAR 2 GLIDERS ASSTD DESIGNS,WRAP BLUE RUSSIAN FOLKART</span>\n",
       ":   5.27259306126753e-05\n",
       "\n"
      ],
      "text/plain": [
       "                                                                                                                                                                                                                                                                                                                                                                                                                                                                                                                                                                                                                                                                                                                                                                                                                                                                                                                                                                                                                                                                                                                                                                                                                                                                                                                                                                                                                                                                                                                                                                                                                                                                                                                                                                                                                                                                                                                                                                                                                                                                                                                                                                                                                                                                                                                                                      1 HANGER \n",
       "                                                                                                                                                                                                                                                                                                                                                                                                                                                                                                                                                                                                                                                                                                                                                                                                                                                                                                                                                                                                                           1.054519e-04 \n",
       "                                                                                                                                                                                                                                                                                                                                                                                                                                                                                                                                                                                                                                                                                                                                                                                                                                                                                                                                                                                                                                                                                                                                                                                                                                                                                                                                                                                                                                                                                                                                                                                                                                                                                                                                                                                                                                                                                                                                                                                                                                                                                                                                                                                                                                                                                                                                        10 COLOUR SPACEBOY PEN \n",
       "                                                                                                                                                                                                                                                                                                                                                                                                                                                                                                                                                                                                                                                                                                                                                                                                                                                                                                                                                                                                                           1.054519e-04 \n",
       "10 COLOUR SPACEBOY PEN,10 COLOUR SPACEBOY PEN,12 COLOURED PARTY BALLOONS,3D SHEET OF CAT STICKERS,3D SHEET OF DOG STICKERS,AFGHAN SLIPPER SOCK PAIR,ASSORTED TUTTI FRUTTI MIRROR,BAKING SET 9 PIECE RETROSPOT ,BALLOON PUMP WITH 10 BALLOONS,BALLOON WATER BOMB PACK OF 35,BOTANICAL ROSE GIFT WRAP,BUTTERFLIES STICKERS,CAMOUFLAGE LED TORCH,CHICK GREY HOT WATER BOTTLE,CHILDS BREAKFAST SET CIRCUS PARADE,CHILDS BREAKFAST SET DOLLY GIRL ,CHILDS BREAKFAST SET SPACEBOY ,CIRCUS PARADE LUNCH BOX ,DINOSAURS  WRITING SET ,ENAMEL MEASURING JUG CREAM,FAIRY SOAP SOAP HOLDER,FELTCRAFT CUSHION OWL,FLOWER FAIRY,5 SUMMER B'DRAW LINERS,GLASS JAR DIGESTIVE BISCUITS,GLASS JAR ENGLISH CONFECTIONERY,GLASS JAR KINGS CHOICE,GREEN WIRE STANDING CANDLE HOLDER,GROW A FLYTRAP OR SUNFLOWER IN TIN,HEADS AND TAILS SPORTING FUN,LUNCH BOX I LOVE LONDON,LUSH GREENS RIBBONS,MULTICOLOUR 3D BALLS GARLAND,PACK OF 20 SPACEBOY NAPKINS,PACK OF 60 DINOSAUR CAKE CASES,PARTY INVITES FOOTBALL,PHARMACIE FIRST AID TIN,PINK  HONEYCOMB PAPER FAN,PLASTERS IN TIN CIRCUS PARADE ,PLASTERS IN TIN SPACEBOY,PLASTERS IN TIN VINTAGE PAISLEY ,PLASTERS IN TIN WOODLAND ANIMALS,RED RETROSPOT SMALL MILK JUG,RETRO BLUE SPOTTY WASHING UP GLOVES,RETRO PLASTIC DAISY TRAY,RETRO PLASTIC ELEPHANT TRAY,RETRO PLASTIC POLKA TRAY,ROUND SNACK BOXES SET OF 4 FRUITS ,SANDALWOOD FAN,SANDALWOOD FAN,SET 12 RETRO WHITE CHALK STICKS,SET 20 NAPKINS FAIRY CAKES DESIGN ,SET 6 FOOTBALL CELEBRATION CANDLES,SET 6 FOOTBALL CELEBRATION CANDLES,SET OF 6 GIRLS CELEBRATION CANDLES,SET OF 6 GIRLS CELEBRATION CANDLES,SET OF 6 KASHMIR FOLKART BAUBLES,SET OF 72 PINK HEART PAPER DOILIES,SET OF 9 HEART SHAPED BALLOONS,SET/10 PINK SPOTTY PARTY CANDLES,SET/10 RED SPOTTY PARTY CANDLES,SET/20 FRUIT SALAD PAPER NAPKINS ,SET/20 STRAWBERRY PAPER NAPKINS ,SET/20 WOODLAND PAPER NAPKINS ,SET/4 BADGES BALLOON GIRL,SET/6 COLLAGE PAPER CUPS,SET/6 COLLAGE PAPER PLATES,SET/6 FRUIT SALAD  PAPER PLATES,SET/6 FRUIT SALAD PAPER CUPS,SILK PURSE BABUSHKA RED,SPACEBOY GIFT WRAP,SPACEBOY LUNCH BOX ,SPACEBOY TV DINNER TRAY,STRIPY DESIGN SHOWER CAP,TROPICAL  HONEYCOMB PAPER GARLAND ,TROPICAL  HONEYCOMB PAPER GARLAND ,TV DINNER TRAY DOLLY GIRL,WOODEN SKITTLES GARDEN SET,WOODLAND  HEIGHT CHART STICKERS ,WORLD WAR 2 GLIDERS ASSTD DESIGNS,WRAP BLUE RUSSIAN FOLKART \n",
       "                                                                                                                                                                                                                                                                                                                                                                                                                                                                                                                                                                                                                                                                                                                                                                                                                                                                                                                                                                                                                           5.272593e-05 "
      ]
     },
     "metadata": {},
     "output_type": "display_data"
    }
   ],
   "source": [
    "itemFrequency(products[,1:3])"
   ]
  },
  {
   "cell_type": "markdown",
   "metadata": {},
   "source": [
    "itemFrequencyPlot() function allows us to produce a bar chart depicting the proportion of transactions."
   ]
  },
  {
   "cell_type": "code",
   "execution_count": 23,
   "metadata": {},
   "outputs": [
    {
     "data": {
      "image/png": "[encoded data removed]",
      "text/plain": [
       "plot without title"
      ]
     },
     "metadata": {},
     "output_type": "display_data"
    }
   ],
   "source": [
    "itemFrequencyPlot(products, support = 0.001)"
   ]
  },
  {
   "cell_type": "markdown",
   "metadata": {},
   "source": [
    "Most purchased 10 items are :"
   ]
  },
  {
   "cell_type": "code",
   "execution_count": 24,
   "metadata": {},
   "outputs": [
    {
     "data": {
      "image/png": "[encoded data removed]",
      "text/plain": [
       "plot without title"
      ]
     },
     "metadata": {},
     "output_type": "display_data"
    }
   ],
   "source": [
    "itemFrequencyPlot(products, topN = 10)"
   ]
  },
  {
   "cell_type": "markdown",
   "metadata": {},
   "source": [
    "Now we will create rules for trasactions with default support and confidence  levels"
   ]
  },
  {
   "cell_type": "code",
   "execution_count": 25,
   "metadata": {},
   "outputs": [
    {
     "name": "stdout",
     "output_type": "stream",
     "text": [
      "Apriori\n",
      "\n",
      "Parameter specification:\n",
      " confidence minval smax arem  aval originalSupport maxtime support minlen\n",
      "        0.8    0.1    1 none FALSE            TRUE       5     0.1      1\n",
      " maxlen target  ext\n",
      "     10  rules TRUE\n",
      "\n",
      "Algorithmic control:\n",
      " filter tree heap memopt load sort verbose\n",
      "    0.1 TRUE TRUE  FALSE TRUE    2    TRUE\n",
      "\n",
      "Absolute minimum support count: 1896 \n",
      "\n",
      "set item appearances ...[0 item(s)] done [0.00s].\n",
      "set transactions ...[18424 item(s), 18966 transaction(s)] done [0.04s].\n",
      "sorting and recoding items ... [0 item(s)] done [0.00s].\n",
      "creating transaction tree ... done [0.00s].\n",
      "checking subsets of size 1 done [0.00s].\n",
      "writing ... [0 rule(s)] done [0.00s].\n",
      "creating S4 object  ... done [0.00s].\n"
     ]
    },
    {
     "data": {
      "text/plain": [
       "set of 0 rules\n"
      ]
     },
     "metadata": {},
     "output_type": "display_data"
    }
   ],
   "source": [
    "rules <- apriori(products)\n",
    "summary(rules)"
   ]
  },
  {
   "cell_type": "markdown",
   "metadata": {},
   "source": [
    "support : 0.1 and confidence: 0.8 levels did not return any itemsets. We must reduce these levels"
   ]
  },
  {
   "cell_type": "markdown",
   "metadata": {},
   "source": [
    "using support = 0.0002 and confidence = 0.75 levels we get 90 rules as follows"
   ]
  },
  {
   "cell_type": "code",
   "execution_count": 27,
   "metadata": {},
   "outputs": [
    {
     "name": "stdout",
     "output_type": "stream",
     "text": [
      "Apriori\n",
      "\n",
      "Parameter specification:\n",
      " confidence minval smax arem  aval originalSupport maxtime support minlen\n",
      "       0.75    0.1    1 none FALSE            TRUE       5   2e-04      1\n",
      " maxlen target  ext\n",
      "     10  rules TRUE\n",
      "\n",
      "Algorithmic control:\n",
      " filter tree heap memopt load sort verbose\n",
      "    0.1 TRUE TRUE  FALSE TRUE    2    TRUE\n",
      "\n",
      "Absolute minimum support count: 3 \n",
      "\n",
      "set item appearances ...[0 item(s)] done [0.00s].\n",
      "set transactions ...[18424 item(s), 18966 transaction(s)] done [0.03s].\n",
      "sorting and recoding items ... [255 item(s)] done [0.00s].\n",
      "creating transaction tree ... done [0.00s].\n",
      "checking subsets of size 1 2 3 4 5 done [0.00s].\n",
      "writing ... [90 rule(s)] done [0.00s].\n",
      "creating S4 object  ... done [0.00s].\n"
     ]
    },
    {
     "data": {
      "text/plain": [
       "set of 90 rules\n",
       "\n",
       "rule length distribution (lhs + rhs):sizes\n",
       " 2  3  4  5 \n",
       "21 44 20  5 \n",
       "\n",
       "   Min. 1st Qu.  Median    Mean 3rd Qu.    Max. \n",
       "    2.0     3.0     3.0     3.1     4.0     5.0 \n",
       "\n",
       "summary of quality measures:\n",
       "    support            confidence        coverage              lift       \n",
       " Min.   :0.0002109   Min.   :0.7500   Min.   :0.0002109   Min.   : 266.2  \n",
       " 1st Qu.:0.0002109   1st Qu.:0.8083   1st Qu.:0.0002109   1st Qu.:1104.6  \n",
       " Median :0.0002109   Median :1.0000   Median :0.0002109   Median :1519.7  \n",
       " Mean   :0.0002244   Mean   :0.9319   Mean   :0.0002437   Mean   :1919.9  \n",
       " 3rd Qu.:0.0002109   3rd Qu.:1.0000   3rd Qu.:0.0002636   3rd Qu.:3161.0  \n",
       " Max.   :0.0003164   Max.   :1.0000   Max.   :0.0004218   Max.   :3793.2  \n",
       "     count      \n",
       " Min.   :4.000  \n",
       " 1st Qu.:4.000  \n",
       " Median :4.000  \n",
       " Mean   :4.256  \n",
       " 3rd Qu.:4.000  \n",
       " Max.   :6.000  \n",
       "\n",
       "mining info:\n",
       "     data ntransactions support confidence\n",
       " products         18966   2e-04       0.75"
      ]
     },
     "metadata": {},
     "output_type": "display_data"
    }
   ],
   "source": [
    "productsRules  <- apriori(products, parameter = list( support = 0.0002, confidence = 0.75, target = \"rules\"))\n",
    "summary(productsRules)"
   ]
  },
  {
   "cell_type": "markdown",
   "metadata": {},
   "source": [
    "Let's have a look at first 20 association rules"
   ]
  },
  {
   "cell_type": "code",
   "execution_count": 28,
   "metadata": {},
   "outputs": [
    {
     "name": "stdout",
     "output_type": "stream",
     "text": [
      "     lhs                                      rhs                                       support confidence     coverage      lift count\n",
      "[1]  {RETROSPOT CHILDRENS APRON}           => {WHITE HANGING HEART T-LIGHT HOLDER} 0.0002109037  0.8000000 0.0002636297  266.1895     4\n",
      "[2]  {TOAST ITS - BEST MUM}                => {SET OF 3 COLOURED  FLYING DUCKS}    0.0002636297  0.8333333 0.0003163556  987.8125     5\n",
      "[3]  {TOAST ITS - BEST MUM}                => {WHITE HANGING HEART T-LIGHT HOLDER} 0.0002636297  0.8333333 0.0003163556  277.2807     5\n",
      "[4]  {SNOWSTORM PHOTO FRAME FRIDGE MAGNET} => {TEA PARTY BIRTHDAY CARD}            0.0002109037  1.0000000 0.0002109037 3161.0000     4\n",
      "[5]  {SNOWSTORM PHOTO FRAME FRIDGE MAGNET} => {RED TOADSTOOL LED NIGHT LIGHT}      0.0002109037  1.0000000 0.0002109037 1264.4000     4\n",
      "[6]  {SWEETHEART CERAMIC TRINKET BOX}      => {STRAWBERRY CERAMIC TRINKET BOX}     0.0003163556  0.7500000 0.0004218074  568.9800     6\n",
      "[7]  {RETRO PINK BALL ASHTRAY}             => {RED SPOTTY CHARLOTTE BAG}           0.0002109037  0.8000000 0.0002636297 1167.1385     4\n",
      "[8]  {TEA PARTY BIRTHDAY CARD}             => {RED TOADSTOOL LED NIGHT LIGHT}      0.0002636297  0.8333333 0.0003163556 1053.6667     5\n",
      "[9]  {SET 3 RED SPOT TIN TEA}              => {COFFEE}                             0.0002636297  1.0000000 0.0002636297 3161.0000     5\n",
      "[10] {COFFEE}                              => {SET 3 RED SPOT TIN TEA}             0.0002636297  0.8333333 0.0003163556 3161.0000     5\n",
      "[11] {SET 3 RED SPOT TIN TEA}              => {SUGAR}                              0.0002636297  1.0000000 0.0002636297 3161.0000     5\n",
      "[12] {SUGAR}                               => {SET 3 RED SPOT TIN TEA}             0.0002636297  0.8333333 0.0003163556 3161.0000     5\n",
      "[13] {HANGING CHICK  GREEN}                => {HANGING CHICK CREAM}                0.0002109037  1.0000000 0.0002109037 3793.2000     4\n",
      "[14] {HANGING CHICK CREAM}                 => {HANGING CHICK  GREEN}               0.0002109037  0.8000000 0.0002636297 3793.2000     4\n",
      "[15] {HANGING CHICK  GREEN}                => {SPRING DEC}                         0.0002109037  1.0000000 0.0002109037 3161.0000     4\n",
      "[16] {COFFEE}                              => {SUGAR}                              0.0003163556  1.0000000 0.0003163556 3161.0000     6\n",
      "[17] {SUGAR}                               => {COFFEE}                             0.0003163556  1.0000000 0.0003163556 3161.0000     6\n",
      "[18] {VINTAGE SNAP CARDS}                  => {VINTAGE HEADS AND TAILS CARD GAME}  0.0003163556  0.8571429 0.0003690815 1354.7143     6\n",
      "[19] {SMALL PURPLE BABUSHKA NOTEBOOK}      => {SUKI  SHOULDER BAG}                 0.0002109037  0.8000000 0.0002636297 1379.3455     4\n",
      "[20] {HANGING CHICK CREAM}                 => {SPRING DEC}                         0.0002636297  1.0000000 0.0002636297 3161.0000     5\n"
     ]
    }
   ],
   "source": [
    "inspect(productsRules[1:20])"
   ]
  },
  {
   "cell_type": "markdown",
   "metadata": {},
   "source": [
    "Most commonly used criteria in associacion rules is the lift level. So let's find out the top 10 rule by lift"
   ]
  },
  {
   "cell_type": "code",
   "execution_count": 29,
   "metadata": {},
   "outputs": [
    {
     "name": "stdout",
     "output_type": "stream",
     "text": [
      "     lhs                                      rhs                                        support confidence     coverage   lift count\n",
      "[1]  {HANGING CHICK CREAM}                 => {HANGING CHICK  GREEN}                0.0002109037  0.8000000 0.0002636297 3793.2     4\n",
      "[2]  {RED TOADSTOOL LED NIGHT LIGHT,                                                                                                 \n",
      "      TEA PARTY BIRTHDAY CARD}             => {SNOWSTORM PHOTO FRAME FRIDGE MAGNET} 0.0002109037  0.8000000 0.0002636297 3793.2     4\n",
      "[3]  {HANGING CHICK CREAM,                                                                                                           \n",
      "      SPRING DEC}                          => {HANGING CHICK  GREEN}                0.0002109037  0.8000000 0.0002636297 3793.2     4\n",
      "[4]  {HANGING CHICK  GREEN}                => {HANGING CHICK CREAM}                 0.0002109037  1.0000000 0.0002109037 3793.2     4\n",
      "[5]  {HANGING CHICK  GREEN,                                                                                                          \n",
      "      SPRING DEC}                          => {HANGING CHICK CREAM}                 0.0002109037  1.0000000 0.0002109037 3793.2     4\n",
      "[6]  {SNOWSTORM PHOTO FRAME FRIDGE MAGNET} => {TEA PARTY BIRTHDAY CARD}             0.0002109037  1.0000000 0.0002109037 3161.0     4\n",
      "[7]  {SET 3 RED SPOT TIN TEA}              => {COFFEE}                              0.0002636297  1.0000000 0.0002636297 3161.0     5\n",
      "[8]  {COFFEE}                              => {SET 3 RED SPOT TIN TEA}              0.0002636297  0.8333333 0.0003163556 3161.0     5\n",
      "[9]  {SET 3 RED SPOT TIN TEA}              => {SUGAR}                               0.0002636297  1.0000000 0.0002636297 3161.0     5\n",
      "[10] {SUGAR}                               => {SET 3 RED SPOT TIN TEA}              0.0002636297  0.8333333 0.0003163556 3161.0     5\n"
     ]
    }
   ],
   "source": [
    "inspect(sort(productsRules, by = \"lift\")[1:10])"
   ]
  },
  {
   "cell_type": "markdown",
   "metadata": {},
   "source": [
    "Sometimes we need the rules of a certain product to manage marketing promotions. We can do this using subset() function under arules library. E.g. \"HANGING CHICK CREAM\" item rules as follows: "
   ]
  },
  {
   "cell_type": "code",
   "execution_count": 30,
   "metadata": {},
   "outputs": [
    {
     "name": "stdout",
     "output_type": "stream",
     "text": [
      "    lhs                       rhs                         support confidence     coverage   lift count\n",
      "[1] {HANGING CHICK  GREEN} => {HANGING CHICK CREAM}  0.0002109037  1.0000000 0.0002109037 3793.2     4\n",
      "[2] {HANGING CHICK CREAM}  => {HANGING CHICK  GREEN} 0.0002109037  0.8000000 0.0002636297 3793.2     4\n",
      "[3] {HANGING CHICK CREAM}  => {SPRING DEC}           0.0002636297  1.0000000 0.0002636297 3161.0     5\n",
      "[4] {SPRING DEC}           => {HANGING CHICK CREAM}  0.0002636297  0.8333333 0.0003163556 3161.0     5\n",
      "[5] {HANGING CHICK  GREEN,                                                                            \n",
      "     HANGING CHICK CREAM}  => {SPRING DEC}           0.0002109037  1.0000000 0.0002109037 3161.0     4\n",
      "[6] {HANGING CHICK  GREEN,                                                                            \n",
      "     SPRING DEC}           => {HANGING CHICK CREAM}  0.0002109037  1.0000000 0.0002109037 3793.2     4\n",
      "[7] {HANGING CHICK CREAM,                                                                             \n",
      "     SPRING DEC}           => {HANGING CHICK  GREEN} 0.0002109037  0.8000000 0.0002636297 3793.2     4\n"
     ]
    }
   ],
   "source": [
    "hangingChickCreamRules <- subset(productsRules, items %in% \"HANGING CHICK CREAM\")\n",
    "inspect(hangingChickCreamRules)"
   ]
  },
  {
   "cell_type": "markdown",
   "metadata": {},
   "source": [
    "Finally let's see all associations in a graph. plot() function can visualise up to 100 association rules : "
   ]
  },
  {
   "cell_type": "code",
   "execution_count": 31,
   "metadata": {},
   "outputs": [
    {
     "data": {
      "image/png": "[encoded data removed]",
      "text/plain": [
       "plot without title"
      ]
     },
     "metadata": {},
     "output_type": "display_data"
    }
   ],
   "source": [
    "plot(productsRules, method=\"graph\")"
   ]
  },
  {
   "cell_type": "markdown",
   "metadata": {},
   "source": [
    "Happy coding!"
   ]
  },
  {
   "cell_type": "code",
   "execution_count": null,
   "metadata": {},
   "outputs": [],
   "source": []
  }
 ],
 "metadata": {
  "kernelspec": {
   "display_name": "R",
   "language": "R",
   "name": "ir"
  },
  "language_info": {
   "codemirror_mode": "r",
   "file_extension": ".r",
   "mimetype": "text/x-r-source",
   "name": "R",
   "pygments_lexer": "r",
   "version": "3.6.1"
  }
 },
 "nbformat": 4,
 "nbformat_minor": 4
}
